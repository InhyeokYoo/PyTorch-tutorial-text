{
  "nbformat": 4,
  "nbformat_minor": 0,
  "metadata": {
    "colab": {
      "name": "LANGUAGE TRANSLATION WITH TORCHTEXT.ipynb",
      "provenance": [],
      "authorship_tag": "ABX9TyN6AJjXKs1GZ1kVJLsDSDsm",
      "include_colab_link": true
    },
    "kernelspec": {
      "name": "python3",
      "display_name": "Python 3"
    },
    "accelerator": "GPU"
  },
  "cells": [
    {
      "cell_type": "markdown",
      "metadata": {
        "id": "view-in-github",
        "colab_type": "text"
      },
      "source": [
        "<a href=\"https://colab.research.google.com/github/InhyeokYoo/PyTorch-tutorial-text/blob/master/LANGUAGE_TRANSLATION_WITH_TORCHTEXT.ipynb\" target=\"_parent\"><img src=\"https://colab.research.google.com/assets/colab-badge.svg\" alt=\"Open In Colab\"/></a>"
      ]
    },
    {
      "cell_type": "markdown",
      "metadata": {
        "id": "e8vbFyFOE5DD",
        "colab_type": "text"
      },
      "source": [
        "이번 튜토리얼은 `torchtext`의 몇 몇 편리한 클래스를 이용하여 영어와 독일어 모두를 포함한 잘 알려진 데이터 셋에 대해 진행하고, 독일 문장을 영어로 번역할 수 있는 attention을 이용한 sequence-to-sequence 모델을 학습시켜보도록 하겠습니다.\n",
        "\n",
        "이 튜토리얼이 끝나면, 여러분은 다음과 같은 것을 할 수 있습니다:\n",
        "- 문장을 NLP 모델링에서 일반적으로 사용되는 포맷으로 전처리 할 수 있습니다. 이는 `torchtext`의 편리한 클래스를 이용합니다:\n",
        " - [TranslationDataset](https://torchtext.readthedocs.io/en/latest/datasets.html#torchtext.datasets.TranslationDataset)\n",
        " - [Field](https://torchtext.readthedocs.io/en/latest/data.html#torchtext.data.Field)\n",
        " - [BucketIterator](https://torchtext.readthedocs.io/en/latest/data.html#torchtext.data.BucketIterator)\n",
        "\n",
        "> 본 튜토리얼의 원본은 [다음](https://pytorch.org/tutorials/beginner/torchtext_translation_tutorial.html)과 같습니다. 역자의 주석은 지금 이 문단과 같이 citation으로 남기겠습니다.  \n",
        "우선 torchtext를 업그레이드 합니다."
      ]
    },
    {
      "cell_type": "code",
      "metadata": {
        "id": "ZzpkDWGeU5kc",
        "colab_type": "code",
        "outputId": "fad371d3-d177-49a3-f589-4a8b4b593cca",
        "colab": {
          "base_uri": "https://localhost:8080/",
          "height": 363
        }
      },
      "source": [
        "!pip install --upgrade torchtext"
      ],
      "execution_count": 0,
      "outputs": [
        {
          "output_type": "stream",
          "text": [
            "Collecting torchtext\n",
            "\u001b[?25l  Downloading https://files.pythonhosted.org/packages/79/ef/54b8da26f37787f5c670ae2199329e7dccf195c060b25628d99e587dac51/torchtext-0.5.0-py3-none-any.whl (73kB)\n",
            "\r\u001b[K     |████▌                           | 10kB 18.8MB/s eta 0:00:01\r\u001b[K     |█████████                       | 20kB 1.7MB/s eta 0:00:01\r\u001b[K     |█████████████▍                  | 30kB 2.5MB/s eta 0:00:01\r\u001b[K     |██████████████████              | 40kB 1.6MB/s eta 0:00:01\r\u001b[K     |██████████████████████▍         | 51kB 2.0MB/s eta 0:00:01\r\u001b[K     |██████████████████████████▉     | 61kB 2.4MB/s eta 0:00:01\r\u001b[K     |███████████████████████████████▍| 71kB 2.8MB/s eta 0:00:01\r\u001b[K     |████████████████████████████████| 81kB 2.5MB/s \n",
            "\u001b[?25hRequirement already satisfied, skipping upgrade: torch in /usr/local/lib/python3.6/dist-packages (from torchtext) (1.4.0)\n",
            "Requirement already satisfied, skipping upgrade: tqdm in /usr/local/lib/python3.6/dist-packages (from torchtext) (4.28.1)\n",
            "Requirement already satisfied, skipping upgrade: requests in /usr/local/lib/python3.6/dist-packages (from torchtext) (2.21.0)\n",
            "Collecting sentencepiece\n",
            "\u001b[?25l  Downloading https://files.pythonhosted.org/packages/74/f4/2d5214cbf13d06e7cb2c20d84115ca25b53ea76fa1f0ade0e3c9749de214/sentencepiece-0.1.85-cp36-cp36m-manylinux1_x86_64.whl (1.0MB)\n",
            "\u001b[K     |████████████████████████████████| 1.0MB 8.0MB/s \n",
            "\u001b[?25hRequirement already satisfied, skipping upgrade: numpy in /usr/local/lib/python3.6/dist-packages (from torchtext) (1.17.5)\n",
            "Requirement already satisfied, skipping upgrade: six in /usr/local/lib/python3.6/dist-packages (from torchtext) (1.12.0)\n",
            "Requirement already satisfied, skipping upgrade: chardet<3.1.0,>=3.0.2 in /usr/local/lib/python3.6/dist-packages (from requests->torchtext) (3.0.4)\n",
            "Requirement already satisfied, skipping upgrade: idna<2.9,>=2.5 in /usr/local/lib/python3.6/dist-packages (from requests->torchtext) (2.8)\n",
            "Requirement already satisfied, skipping upgrade: urllib3<1.25,>=1.21.1 in /usr/local/lib/python3.6/dist-packages (from requests->torchtext) (1.24.3)\n",
            "Requirement already satisfied, skipping upgrade: certifi>=2017.4.17 in /usr/local/lib/python3.6/dist-packages (from requests->torchtext) (2019.11.28)\n",
            "Installing collected packages: sentencepiece, torchtext\n",
            "  Found existing installation: torchtext 0.3.1\n",
            "    Uninstalling torchtext-0.3.1:\n",
            "      Successfully uninstalled torchtext-0.3.1\n",
            "Successfully installed sentencepiece-0.1.85 torchtext-0.5.0\n"
          ],
          "name": "stdout"
        }
      ]
    },
    {
      "cell_type": "markdown",
      "metadata": {
        "id": "HlGvqjDcIIYT",
        "colab_type": "text"
      },
      "source": [
        "# Field and TranslationDataset\n",
        "`torchtext`는 번역 모델을 만들기 위해 쉽게 반복할 수 있는 데이터 셋을 만드는 유용한 기능이 있습니다. [Field](https://github.com/pytorch/text/blob/master/torchtext/data/field.py#L64)는 이러한 핵심 클래스 중 하나로, 각 문장이 전처리하는 방법을 구체화해주고, 다른 하나는 `TranslationDataset`로, 데이터셋이 담겨있습니다. 이번 튜토리얼서 사용할 데이터는 [Multi30k dataset](https://github.com/multi30k/dataset)으로, 약 3만 개의 영어, 독일어 문장을 포함합니다 (평균적으로 문장 당 13개의 단어).\n",
        "\n",
        "**Note**  \n",
        "이 튜토리얼에서의 tokenization은 [Spacy](https://spacy.io/)를 필요로 합니다. 이는 영어 이외의 언어에서 보다 강력한 tokenization기능을 지원하기 때문입니다. `torchtext`는 `basis_english` tokenizer를 제공하고 영어를 위한 다른 tokenizer 또한 제공합니다 (e.g. [Moses](https://bitbucket.org/luismsgomes/mosestokenizer/src/default/)). 그러나 여러 언어가 필요한 언어 번역에서는 Spacy가 제일 좋은 선택입니다.\n",
        "\n",
        "이 튜토리얼을 실행시키기 위해 `pip`나 `conda`를 이용하여 `spacy`를 먼저 설치합니다. 그 다음, 영어와 독일어 Spacy tokenizer를 위한 raw data를 다운로드합니다."
      ]
    },
    {
      "cell_type": "code",
      "metadata": {
        "id": "ooAxaMbCR_nj",
        "colab_type": "code",
        "outputId": "c9717109-f6f2-415f-c3cb-81677a6d431a",
        "colab": {
          "base_uri": "https://localhost:8080/",
          "height": 435
        }
      },
      "source": [
        "!python -m spacy download en\n",
        "!python -m spacy download de"
      ],
      "execution_count": 0,
      "outputs": [
        {
          "output_type": "stream",
          "text": [
            "Requirement already satisfied: en_core_web_sm==2.1.0 from https://github.com/explosion/spacy-models/releases/download/en_core_web_sm-2.1.0/en_core_web_sm-2.1.0.tar.gz#egg=en_core_web_sm==2.1.0 in /usr/local/lib/python3.6/dist-packages (2.1.0)\n",
            "\u001b[38;5;2m✔ Download and installation successful\u001b[0m\n",
            "You can now load the model via spacy.load('en_core_web_sm')\n",
            "\u001b[38;5;2m✔ Linking successful\u001b[0m\n",
            "/usr/local/lib/python3.6/dist-packages/en_core_web_sm -->\n",
            "/usr/local/lib/python3.6/dist-packages/spacy/data/en\n",
            "You can now load the model via spacy.load('en')\n",
            "Collecting de_core_news_sm==2.1.0\n",
            "\u001b[?25l  Downloading https://github.com/explosion/spacy-models/releases/download/de_core_news_sm-2.1.0/de_core_news_sm-2.1.0.tar.gz (11.1MB)\n",
            "\u001b[K     |████████████████████████████████| 11.1MB 753kB/s \n",
            "\u001b[?25hBuilding wheels for collected packages: de-core-news-sm\n",
            "  Building wheel for de-core-news-sm (setup.py) ... \u001b[?25l\u001b[?25hdone\n",
            "  Created wheel for de-core-news-sm: filename=de_core_news_sm-2.1.0-cp36-none-any.whl size=11073065 sha256=06e81e5457124b73d02e060915bc7a9bf013a9d99185106aa146bf526f05b626\n",
            "  Stored in directory: /tmp/pip-ephem-wheel-cache-5qt9r5he/wheels/b4/8b/5e/d2ce5d2756ca95de22f50f68299708009a4aafda2aea79c4e4\n",
            "Successfully built de-core-news-sm\n",
            "Installing collected packages: de-core-news-sm\n",
            "Successfully installed de-core-news-sm-2.1.0\n",
            "\u001b[38;5;2m✔ Download and installation successful\u001b[0m\n",
            "You can now load the model via spacy.load('de_core_news_sm')\n",
            "\u001b[38;5;2m✔ Linking successful\u001b[0m\n",
            "/usr/local/lib/python3.6/dist-packages/de_core_news_sm -->\n",
            "/usr/local/lib/python3.6/dist-packages/spacy/data/de\n",
            "You can now load the model via spacy.load('de')\n"
          ],
          "name": "stdout"
        }
      ]
    },
    {
      "cell_type": "markdown",
      "metadata": {
        "id": "7-EGxaxyT26_",
        "colab_type": "text"
      },
      "source": [
        "다음 코드는 `TranslationDataset` 내의 각 문장을 `Field`에 정의된 토크나이저를 기반으로 tokenize합니다."
      ]
    },
    {
      "cell_type": "code",
      "metadata": {
        "id": "2UDgJ9uaT0yh",
        "colab_type": "code",
        "outputId": "4b8cc882-6b8b-4d5e-f309-c3ab3b587c12",
        "colab": {
          "base_uri": "https://localhost:8080/",
          "height": 121
        }
      },
      "source": [
        "from torchtext.datasets import Multi30k\n",
        "from torchtext.data import Field, BucketIterator\n",
        "\n",
        "SRC = Field(tokenize='spacy', tokenizer_language='de', init_token='<SOS>', eos_token='<EOS>', lower=True)\n",
        "TRG = Field(tokenize=\"spacy\", tokenizer_language=\"en\", init_token='<sos>', eos_token='<eos>', lower=True)\n",
        "\n",
        "train_data, valid_data, test_data = Multi30k.splits(exts =('.de', '.en'), fields=(SRC, TRG))"
      ],
      "execution_count": 0,
      "outputs": [
        {
          "output_type": "stream",
          "text": [
            "downloading training.tar.gz\n"
          ],
          "name": "stdout"
        },
        {
          "output_type": "stream",
          "text": [
            "training.tar.gz: 100%|██████████| 1.21M/1.21M [00:04<00:00, 295kB/s]\n"
          ],
          "name": "stderr"
        },
        {
          "output_type": "stream",
          "text": [
            "downloading validation.tar.gz\n"
          ],
          "name": "stdout"
        },
        {
          "output_type": "stream",
          "text": [
            "validation.tar.gz: 100%|██████████| 46.3k/46.3k [00:00<00:00, 91.2kB/s]\n"
          ],
          "name": "stderr"
        },
        {
          "output_type": "stream",
          "text": [
            "downloading mmt_task1_test2016.tar.gz\n"
          ],
          "name": "stdout"
        },
        {
          "output_type": "stream",
          "text": [
            "mmt_task1_test2016.tar.gz: 100%|██████████| 66.2k/66.2k [00:00<00:00, 87.0kB/s]\n"
          ],
          "name": "stderr"
        }
      ]
    },
    {
      "cell_type": "markdown",
      "metadata": {
        "id": "rHx3Aau0ZUQy",
        "colab_type": "text"
      },
      "source": [
        "> `Multi30k`는 `TranslationDataset`의 subclass입니다."
      ]
    },
    {
      "cell_type": "markdown",
      "metadata": {
        "id": "uRBlwlxsZ25A",
        "colab_type": "text"
      },
      "source": [
        "> `Field`에 대해 더 자세히 알아보겠습니다. 공식문서에 따르면 Field는 데이터타입과 이를 텐서로 변환할 지시사항과 함께 정의하는 것이라 되어있습니다. `Field`는 텐서로 표현 될 수 있는 텍스트 데이터 타입을 처리하고, 각 토큰을 숫자 인덱으로 맵핑시켜주는 단어장(Vocabulary) 객체가 있습니다. 또한 토큰화 하는 함수, 전처리 등을 지정할 수 있습니다.  \n",
        "Arguments:\n",
        "- sequential: text는 sequential 데이터이므로 인자를 True 로 두고, LABEL 데이터는 순서가 필요없기 때문에 False 로 둔다.\n",
        "- use_vocab: Vocab 객체를 사용할지의 여부. text에만 True 로 인자를 전달한다.\n",
        "- tokenize: 이름 그대로 tokenize\n",
        "- lower: 소문자 전환 여부.\n",
        "- batch_first: True이면 tensor는 [B, 문장의 최대 길이]가 된다.\n",
        "- preprocessing: 전처리는 토큰화 후, 수치화하기 전 사이에서 작동한다."
      ]
    },
    {
      "cell_type": "markdown",
      "metadata": {
        "id": "-0J73zvMl_xe",
        "colab_type": "text"
      },
      "source": [
        "`train_data`를 정의했으므로, `torchtext`의 `Field`의 매우 유용한 특성을 볼 수 있습니다. `build_vocab` 메소드는 이제 우리로 하여금 각 언어에 관련된 사전을 만들 수 있게끔 허용합니다.\n",
        "\n",
        "> `build_vocab`은 Positional, keyward argument 두 개를 받는데, positional argument의 경우, `Dataset` 오브젝트나 iterable한 데이터를 받아 `Vocab`객체를 생성합니다. keyward argument의 경우 `Vocab`의 생성자로 전달할 인자를 받습니다."
      ]
    },
    {
      "cell_type": "code",
      "metadata": {
        "id": "64kjUXaoUzBD",
        "colab_type": "code",
        "colab": {}
      },
      "source": [
        "# Q. 여기서 OOV 문제는 어떻게 해결하려고 min_freq=2로 설정하는가?\n",
        "SRC.build_vocab(train_data, min_freq=2)\n",
        "TRG.build_vocab(train_data, min_freq=2)"
      ],
      "execution_count": 0,
      "outputs": []
    },
    {
      "cell_type": "markdown",
      "metadata": {
        "id": "N1x4-echnVib",
        "colab_type": "text"
      },
      "source": [
        "한번 이러한 코드가 동작하고 나면, `SRC.vocab.stoi`는 각 토큰을 key로 하고 이에 상응하는 값을 value로 하는 dictionary가 될 것입니다. `SRC.vocab.itos`는 이를 거꾸로한 dictionary입니다. 이번 튜토리얼에서 이에 대해 깊게 다루지 않을 것이지만, 앞으로 마주할 NLP task에서 도움될만한 정보입니다."
      ]
    },
    {
      "cell_type": "markdown",
      "metadata": {
        "id": "ROx3hUmlpaBO",
        "colab_type": "text"
      },
      "source": [
        "# `BucketIterator`\n",
        "마지막으로 살펴볼 `torchtext`의 특성은 `BuckerIterator`로, 이는 `TranslationDataset`을 첫번째 인자로 받아 사용하기 쉽습니다. 구체적으로, API 문서에서 언급한 바와 같이, 비슷한 길이를 갖는 데이터를 함께 묶는(batch) Iterator를 정의합니다. 매 새로운 epoch에서 랜덤한 batch를 생성하는 과정에서 padding을 최소화합니다."
      ]
    },
    {
      "cell_type": "code",
      "metadata": {
        "id": "XYdV2QqLk_X-",
        "colab_type": "code",
        "colab": {}
      },
      "source": [
        "import torch\n",
        "\n",
        "device = torch.device('cuda' if torch.cuda.is_available() == True else 'cpu')\n",
        "BATCH_SIZE = 128\n",
        "train_iterator, valid_iterator, test_iterator = BucketIterator.splits((train_data, valid_data, test_data), batch_size = BATCH_SIZE, device = device)"
      ],
      "execution_count": 0,
      "outputs": []
    },
    {
      "cell_type": "markdown",
      "metadata": {
        "id": "RV8DYOzN4g3C",
        "colab_type": "text"
      },
      "source": [
        "이러한 iterator는 아래와 같이 `train`과 `evaluate` 함수 안에서 `DataLoader`와 같은 방법으로 호출할 수 있습니다:\n",
        "```python\n",
        "for i, batch in enumerate(iterator):\n",
        "```\n",
        "이러면 각 `batch`는 `src`와 `trg` 속성을 갖게됩니다.\n",
        "```python\n",
        "src = batch.src\n",
        "trg = batch.trg\n",
        "```"
      ]
    },
    {
      "cell_type": "markdown",
      "metadata": {
        "id": "7kOv_hBQUMMg",
        "colab_type": "text"
      },
      "source": [
        "> `BucketIterator` 또한 살펴보도록 하겠습니다. 위에서 만든 `BucketIterator`를 한번 살펴보고, `SRC.vocab.itos`를 통해 다시 text로 변환시켜봅시다."
      ]
    },
    {
      "cell_type": "code",
      "metadata": {
        "id": "ODkITWmecfwu",
        "colab_type": "code",
        "outputId": "77f7370c-8975-4cad-b9bf-4e8fb42ae172",
        "colab": {
          "base_uri": "https://localhost:8080/",
          "height": 1000
        }
      },
      "source": [
        "for i, batch in enumerate(train_iterator):\n",
        "    print(batch.trg.size())\n",
        "    items = [\" \".join([TRG.vocab.itos[item] for item in batch.trg[:, i]]) for i in range(128)]\n",
        "    for item in items:\n",
        "        print(item)\n",
        "\n",
        "    print(batch.src.size())\n",
        "    items = [\" \".join([SRC.vocab.itos[item] for item in batch.src[:, i]]) for i in range(128)]\n",
        "    for item in items:\n",
        "        print(item)\n",
        "    break"
      ],
      "execution_count": 0,
      "outputs": [
        {
          "output_type": "stream",
          "text": [
            "torch.Size([30, 128])\n",
            "<sos> a group of young people lounging on the couch . <eos> <pad> <pad> <pad> <pad> <pad> <pad> <pad> <pad> <pad> <pad> <pad> <pad> <pad> <pad> <pad> <pad> <pad> <pad>\n",
            "<sos> three females and one male are walking at the edge of a road . <eos> <pad> <pad> <pad> <pad> <pad> <pad> <pad> <pad> <pad> <pad> <pad> <pad> <pad> <pad>\n",
            "<sos> a man on a city sidewalk in a coat playing a brass clarinet . <eos> <pad> <pad> <pad> <pad> <pad> <pad> <pad> <pad> <pad> <pad> <pad> <pad> <pad> <pad>\n",
            "<sos> a woman nibbles at a food item in her hands . <eos> <pad> <pad> <pad> <pad> <pad> <pad> <pad> <pad> <pad> <pad> <pad> <pad> <pad> <pad> <pad> <pad> <pad>\n",
            "<sos> a man and two women are <unk> a vendor on the street . <eos> <pad> <pad> <pad> <pad> <pad> <pad> <pad> <pad> <pad> <pad> <pad> <pad> <pad> <pad> <pad>\n",
            "<sos> four people stand around near a blue fork lift . <eos> <pad> <pad> <pad> <pad> <pad> <pad> <pad> <pad> <pad> <pad> <pad> <pad> <pad> <pad> <pad> <pad> <pad> <pad>\n",
            "<sos> two soccer teams on a field one team dressed in blue an white the other dressed in white and blue . <eos> <pad> <pad> <pad> <pad> <pad> <pad> <pad>\n",
            "<sos> a man standing before a gate inside a hill . <eos> <pad> <pad> <pad> <pad> <pad> <pad> <pad> <pad> <pad> <pad> <pad> <pad> <pad> <pad> <pad> <pad> <pad> <pad>\n",
            "<sos> a couple with their eyes closed dances as people watch . <eos> <pad> <pad> <pad> <pad> <pad> <pad> <pad> <pad> <pad> <pad> <pad> <pad> <pad> <pad> <pad> <pad> <pad>\n",
            "<sos> men in white suits stand in the road and along the side of the road . <eos> <pad> <pad> <pad> <pad> <pad> <pad> <pad> <pad> <pad> <pad> <pad> <pad>\n",
            "<sos> two men use their skateboards in the middle of the street . <eos> <pad> <pad> <pad> <pad> <pad> <pad> <pad> <pad> <pad> <pad> <pad> <pad> <pad> <pad> <pad> <pad>\n",
            "<sos> boy stands near laundry hanging out to dry . <eos> <pad> <pad> <pad> <pad> <pad> <pad> <pad> <pad> <pad> <pad> <pad> <pad> <pad> <pad> <pad> <pad> <pad> <pad> <pad>\n",
            "<sos> happy , <unk> toddler sitting in a pretty blue , white and yellow blanket throwing a large blue ball . <eos> <pad> <pad> <pad> <pad> <pad> <pad> <pad> <pad>\n",
            "<sos> a crowd of people containing some people who are smiling and some who are taking photographs . <eos> <pad> <pad> <pad> <pad> <pad> <pad> <pad> <pad> <pad> <pad> <pad>\n",
            "<sos> a crowd of various people walking through a marketplace . <eos> <pad> <pad> <pad> <pad> <pad> <pad> <pad> <pad> <pad> <pad> <pad> <pad> <pad> <pad> <pad> <pad> <pad> <pad>\n",
            "<sos> a man wearing a yellow safety vest helps prepare an airplane . <eos> <pad> <pad> <pad> <pad> <pad> <pad> <pad> <pad> <pad> <pad> <pad> <pad> <pad> <pad> <pad> <pad>\n",
            "<sos> a white and brown dog is playing in the dirt with a toy . <eos> <pad> <pad> <pad> <pad> <pad> <pad> <pad> <pad> <pad> <pad> <pad> <pad> <pad> <pad>\n",
            "<sos> a man leans over to kiss a woman on a bike near a palm tree . <eos> <pad> <pad> <pad> <pad> <pad> <pad> <pad> <pad> <pad> <pad> <pad> <pad>\n",
            "<sos> two dogs run across the barren ground . <eos> <pad> <pad> <pad> <pad> <pad> <pad> <pad> <pad> <pad> <pad> <pad> <pad> <pad> <pad> <pad> <pad> <pad> <pad> <pad> <pad>\n",
            "<sos> a young boy wearing a spider - patterned shirt on the sand . <eos> <pad> <pad> <pad> <pad> <pad> <pad> <pad> <pad> <pad> <pad> <pad> <pad> <pad> <pad> <pad>\n",
            "<sos> a child looks at a lizard in another child 's hand . <eos> <pad> <pad> <pad> <pad> <pad> <pad> <pad> <pad> <pad> <pad> <pad> <pad> <pad> <pad> <pad> <pad>\n",
            "<sos> a motor - cross rider in red splashes through mud and rain with his motorcycle . <eos> <pad> <pad> <pad> <pad> <pad> <pad> <pad> <pad> <pad> <pad> <pad> <pad>\n",
            "<sos> a costumed woman plays an instrument on a bench . <eos> <pad> <pad> <pad> <pad> <pad> <pad> <pad> <pad> <pad> <pad> <pad> <pad> <pad> <pad> <pad> <pad> <pad> <pad>\n",
            "<sos> a boy with dark and a woman in a brown shirt are playing with a purple stuffed toy . <eos> <pad> <pad> <pad> <pad> <pad> <pad> <pad> <pad> <pad>\n",
            "<sos> a person in black pans and a black t - shirt jumping on a fountain plaza . <eos> <pad> <pad> <pad> <pad> <pad> <pad> <pad> <pad> <pad> <pad> <pad>\n",
            "<sos> a woman and a girl are looking at a hovering ball together . <eos> <pad> <pad> <pad> <pad> <pad> <pad> <pad> <pad> <pad> <pad> <pad> <pad> <pad> <pad> <pad>\n",
            "<sos> a man crouches on the sidewalk next to a little girl . <eos> <pad> <pad> <pad> <pad> <pad> <pad> <pad> <pad> <pad> <pad> <pad> <pad> <pad> <pad> <pad> <pad>\n",
            "<sos> a man frolics in the golden surf along a beach at sunset . <eos> <pad> <pad> <pad> <pad> <pad> <pad> <pad> <pad> <pad> <pad> <pad> <pad> <pad> <pad> <pad>\n",
            "<sos> a dog is fetching a tennis ball in a patch of green grass . <eos> <pad> <pad> <pad> <pad> <pad> <pad> <pad> <pad> <pad> <pad> <pad> <pad> <pad> <pad>\n",
            "<sos> two men are discussing <unk> near a wall with some graffiti on it . <eos> <pad> <pad> <pad> <pad> <pad> <pad> <pad> <pad> <pad> <pad> <pad> <pad> <pad> <pad>\n",
            "<sos> a man jumps to catch a frisbee , while a man and a woman run towards him . <eos> <pad> <pad> <pad> <pad> <pad> <pad> <pad> <pad> <pad> <pad>\n",
            "<sos> a man and a woman hold hands in a grassy field . <eos> <pad> <pad> <pad> <pad> <pad> <pad> <pad> <pad> <pad> <pad> <pad> <pad> <pad> <pad> <pad> <pad>\n",
            "<sos> a young couple are at the beginning of playing jenga on a living room coffee table . <eos> <pad> <pad> <pad> <pad> <pad> <pad> <pad> <pad> <pad> <pad> <pad>\n",
            "<sos> a woman is holding two fans , one black , one red , and is wearing making with a red dress . <eos> <pad> <pad> <pad> <pad> <pad> <pad>\n",
            "<sos> a clown dressed in red and yellow holds something to his mouth . <eos> <pad> <pad> <pad> <pad> <pad> <pad> <pad> <pad> <pad> <pad> <pad> <pad> <pad> <pad> <pad>\n",
            "<sos> the sun shines bright on the snow surrounding a few people . <eos> <pad> <pad> <pad> <pad> <pad> <pad> <pad> <pad> <pad> <pad> <pad> <pad> <pad> <pad> <pad> <pad>\n",
            "<sos> a little girl laughing while going down a slide . <eos> <pad> <pad> <pad> <pad> <pad> <pad> <pad> <pad> <pad> <pad> <pad> <pad> <pad> <pad> <pad> <pad> <pad> <pad>\n",
            "<sos> two small children happily playing on a tire swing . <eos> <pad> <pad> <pad> <pad> <pad> <pad> <pad> <pad> <pad> <pad> <pad> <pad> <pad> <pad> <pad> <pad> <pad> <pad>\n",
            "<sos> a lit food cart is parked on the street at dusk . <eos> <pad> <pad> <pad> <pad> <pad> <pad> <pad> <pad> <pad> <pad> <pad> <pad> <pad> <pad> <pad> <pad>\n",
            "<sos> a man in a yellow jumpsuit rowing a boat with a bird in front . <eos> <pad> <pad> <pad> <pad> <pad> <pad> <pad> <pad> <pad> <pad> <pad> <pad> <pad>\n",
            "<sos> a tan dog <unk> on to a white <unk> toy . <eos> <pad> <pad> <pad> <pad> <pad> <pad> <pad> <pad> <pad> <pad> <pad> <pad> <pad> <pad> <pad> <pad> <pad>\n",
            "<sos> a little boy wearing swim trunks plays in the ocean . <eos> <pad> <pad> <pad> <pad> <pad> <pad> <pad> <pad> <pad> <pad> <pad> <pad> <pad> <pad> <pad> <pad> <pad>\n",
            "<sos> a motorcycle rider is jumping in the air while someone in the background is watching . <eos> <pad> <pad> <pad> <pad> <pad> <pad> <pad> <pad> <pad> <pad> <pad> <pad>\n",
            "<sos> construction on the inside of a house . <eos> <pad> <pad> <pad> <pad> <pad> <pad> <pad> <pad> <pad> <pad> <pad> <pad> <pad> <pad> <pad> <pad> <pad> <pad> <pad> <pad>\n",
            "<sos> a young girl in glasses and sweatsuit swings a racket . <eos> <pad> <pad> <pad> <pad> <pad> <pad> <pad> <pad> <pad> <pad> <pad> <pad> <pad> <pad> <pad> <pad> <pad>\n",
            "<sos> a group of males wearing helmet standing in a line with flags and a crowd in the background . <eos> <pad> <pad> <pad> <pad> <pad> <pad> <pad> <pad> <pad>\n",
            "<sos> a man with red - hair working on his bicycle . <eos> <pad> <pad> <pad> <pad> <pad> <pad> <pad> <pad> <pad> <pad> <pad> <pad> <pad> <pad> <pad> <pad> <pad>\n",
            "<sos> a group of several teenage boys walking along the roadside with a garbage bag . <eos> <pad> <pad> <pad> <pad> <pad> <pad> <pad> <pad> <pad> <pad> <pad> <pad> <pad>\n",
            "<sos> a brass band , with many members wearing santa claus hats , is <unk> by a man wearing a leather jacket while playing under a temporary <unk> . <eos>\n",
            "<sos> a woman in a park wearing a purple blouse <eos> <pad> <pad> <pad> <pad> <pad> <pad> <pad> <pad> <pad> <pad> <pad> <pad> <pad> <pad> <pad> <pad> <pad> <pad> <pad>\n",
            "<sos> a girl with black gloves is running . <eos> <pad> <pad> <pad> <pad> <pad> <pad> <pad> <pad> <pad> <pad> <pad> <pad> <pad> <pad> <pad> <pad> <pad> <pad> <pad> <pad>\n",
            "<sos> people lining up and getting ready for flag day in france . <eos> <pad> <pad> <pad> <pad> <pad> <pad> <pad> <pad> <pad> <pad> <pad> <pad> <pad> <pad> <pad> <pad>\n",
            "<sos> a man on a white waterskiing ramp on a lake <eos> <pad> <pad> <pad> <pad> <pad> <pad> <pad> <pad> <pad> <pad> <pad> <pad> <pad> <pad> <pad> <pad> <pad> <pad>\n",
            "<sos> two people are walking two golden dogs in the snow . <eos> <pad> <pad> <pad> <pad> <pad> <pad> <pad> <pad> <pad> <pad> <pad> <pad> <pad> <pad> <pad> <pad> <pad>\n",
            "<sos> a person is being lifted out of the water with an old <unk> . <eos> <pad> <pad> <pad> <pad> <pad> <pad> <pad> <pad> <pad> <pad> <pad> <pad> <pad> <pad>\n",
            "<sos> a woman looks down from a high point above a calm blue ocean . <eos> <pad> <pad> <pad> <pad> <pad> <pad> <pad> <pad> <pad> <pad> <pad> <pad> <pad> <pad>\n",
            "<sos> a group of bike riders are riding on the street . <eos> <pad> <pad> <pad> <pad> <pad> <pad> <pad> <pad> <pad> <pad> <pad> <pad> <pad> <pad> <pad> <pad> <pad>\n",
            "<sos> a white car racing in the dirt and water <eos> <pad> <pad> <pad> <pad> <pad> <pad> <pad> <pad> <pad> <pad> <pad> <pad> <pad> <pad> <pad> <pad> <pad> <pad> <pad>\n",
            "<sos> a cyclist is performing a jump by some trees . <eos> <pad> <pad> <pad> <pad> <pad> <pad> <pad> <pad> <pad> <pad> <pad> <pad> <pad> <pad> <pad> <pad> <pad> <pad>\n",
            "<sos> firefighters <unk> to the scene of a motorcycle accident . <eos> <pad> <pad> <pad> <pad> <pad> <pad> <pad> <pad> <pad> <pad> <pad> <pad> <pad> <pad> <pad> <pad> <pad> <pad>\n",
            "<sos> a woman in a blue shirt looks in to a store window . <eos> <pad> <pad> <pad> <pad> <pad> <pad> <pad> <pad> <pad> <pad> <pad> <pad> <pad> <pad> <pad>\n",
            "<sos> a woman in a green shirt reads a <unk> <unk> book to three children . <eos> <pad> <pad> <pad> <pad> <pad> <pad> <pad> <pad> <pad> <pad> <pad> <pad> <pad>\n",
            "<sos> a group of man standing by a white truck . <eos> <pad> <pad> <pad> <pad> <pad> <pad> <pad> <pad> <pad> <pad> <pad> <pad> <pad> <pad> <pad> <pad> <pad> <pad>\n",
            "<sos> a man standing on concrete outside wearing a red shirt and gray pants . <eos> <pad> <pad> <pad> <pad> <pad> <pad> <pad> <pad> <pad> <pad> <pad> <pad> <pad> <pad>\n",
            "<sos> a young man <unk> up balloons to craft into animals for the seven excited children that looked on . <eos> <pad> <pad> <pad> <pad> <pad> <pad> <pad> <pad> <pad>\n",
            "<sos> a fencing match between <unk> and italy . <eos> <pad> <pad> <pad> <pad> <pad> <pad> <pad> <pad> <pad> <pad> <pad> <pad> <pad> <pad> <pad> <pad> <pad> <pad> <pad> <pad>\n",
            "<sos> group of doctors are gathered around a patient in a operating room . <eos> <pad> <pad> <pad> <pad> <pad> <pad> <pad> <pad> <pad> <pad> <pad> <pad> <pad> <pad> <pad>\n",
            "<sos> football players dressed in yellow , blue , and white uniforms are playing against other players dressed in gold , and blue in a stadium . <eos> <pad> <pad>\n",
            "<sos> a knight on horseback and another man <unk> a medieval scene for a group of spectators . <eos> <pad> <pad> <pad> <pad> <pad> <pad> <pad> <pad> <pad> <pad> <pad>\n",
            "<sos> a man playing ball at sunset . <eos> <pad> <pad> <pad> <pad> <pad> <pad> <pad> <pad> <pad> <pad> <pad> <pad> <pad> <pad> <pad> <pad> <pad> <pad> <pad> <pad> <pad>\n",
            "<sos> a band is playing a show on the edge of the water at night with a vibrant dancing crowd . <eos> <pad> <pad> <pad> <pad> <pad> <pad> <pad> <pad>\n",
            "<sos> a man in a white shirt and tie walking across the street . <eos> <pad> <pad> <pad> <pad> <pad> <pad> <pad> <pad> <pad> <pad> <pad> <pad> <pad> <pad> <pad>\n",
            "<sos> several people are exiting a commercial jet aircraft . <eos> <pad> <pad> <pad> <pad> <pad> <pad> <pad> <pad> <pad> <pad> <pad> <pad> <pad> <pad> <pad> <pad> <pad> <pad> <pad>\n",
            "<sos> man with white helmet burning rubber of his black and green motorcycle <eos> <pad> <pad> <pad> <pad> <pad> <pad> <pad> <pad> <pad> <pad> <pad> <pad> <pad> <pad> <pad> <pad>\n",
            "<sos> a baseball hitter holding a bat falling down . <eos> <pad> <pad> <pad> <pad> <pad> <pad> <pad> <pad> <pad> <pad> <pad> <pad> <pad> <pad> <pad> <pad> <pad> <pad> <pad>\n",
            "<sos> four people walking down the street and one is trying to jump in a shopping cart . <eos> <pad> <pad> <pad> <pad> <pad> <pad> <pad> <pad> <pad> <pad> <pad>\n",
            "<sos> people gathered around at an outdoor event . <eos> <pad> <pad> <pad> <pad> <pad> <pad> <pad> <pad> <pad> <pad> <pad> <pad> <pad> <pad> <pad> <pad> <pad> <pad> <pad> <pad>\n",
            "<sos> a male biker jumping a ramp in a contest or crossing the finish line . <eos> <pad> <pad> <pad> <pad> <pad> <pad> <pad> <pad> <pad> <pad> <pad> <pad> <pad>\n",
            "<sos> two young boys play with a puzzle in a classroom . <eos> <pad> <pad> <pad> <pad> <pad> <pad> <pad> <pad> <pad> <pad> <pad> <pad> <pad> <pad> <pad> <pad> <pad>\n",
            "<sos> a college basketball game being played in the big ten conference . <eos> <pad> <pad> <pad> <pad> <pad> <pad> <pad> <pad> <pad> <pad> <pad> <pad> <pad> <pad> <pad> <pad>\n",
            "<sos> woman laughing as she is being licked by a brown dog . <eos> <pad> <pad> <pad> <pad> <pad> <pad> <pad> <pad> <pad> <pad> <pad> <pad> <pad> <pad> <pad> <pad>\n",
            "<sos> a man in a gray coat is walking on a fallen tree trunk in a forest . <eos> <pad> <pad> <pad> <pad> <pad> <pad> <pad> <pad> <pad> <pad> <pad>\n",
            "<sos> two women have a discussion in a mostly white , <unk> office . <eos> <pad> <pad> <pad> <pad> <pad> <pad> <pad> <pad> <pad> <pad> <pad> <pad> <pad> <pad> <pad>\n",
            "<sos> a woman in all black walking past a department store window . <eos> <pad> <pad> <pad> <pad> <pad> <pad> <pad> <pad> <pad> <pad> <pad> <pad> <pad> <pad> <pad> <pad>\n",
            "<sos> three men putting items on their blue boat . <eos> <pad> <pad> <pad> <pad> <pad> <pad> <pad> <pad> <pad> <pad> <pad> <pad> <pad> <pad> <pad> <pad> <pad> <pad> <pad>\n",
            "<sos> firetrucks surrounding a burning building at night and spraying water from various directions . <eos> <pad> <pad> <pad> <pad> <pad> <pad> <pad> <pad> <pad> <pad> <pad> <pad> <pad> <pad>\n",
            "<sos> a man and a woman laugh together . <eos> <pad> <pad> <pad> <pad> <pad> <pad> <pad> <pad> <pad> <pad> <pad> <pad> <pad> <pad> <pad> <pad> <pad> <pad> <pad> <pad>\n",
            "<sos> a group of people riding on the bed of a truck along a gravel road . <eos> <pad> <pad> <pad> <pad> <pad> <pad> <pad> <pad> <pad> <pad> <pad> <pad>\n",
            "<sos> a woman balances a small child on her hip . <eos> <pad> <pad> <pad> <pad> <pad> <pad> <pad> <pad> <pad> <pad> <pad> <pad> <pad> <pad> <pad> <pad> <pad> <pad>\n",
            "<sos> two go - cart drivers are racing on the racetrack . <eos> <pad> <pad> <pad> <pad> <pad> <pad> <pad> <pad> <pad> <pad> <pad> <pad> <pad> <pad> <pad> <pad> <pad>\n",
            "<sos> a person in a green shirt is sitting on the ground near a fence , with fruit laid out near her . <eos> <pad> <pad> <pad> <pad> <pad> <pad>\n",
            "<sos> a skateboarder flies thorugh the air while others watch . <eos> <pad> <pad> <pad> <pad> <pad> <pad> <pad> <pad> <pad> <pad> <pad> <pad> <pad> <pad> <pad> <pad> <pad> <pad>\n",
            "<sos> man in business attire jumping off the side of a building . <eos> <pad> <pad> <pad> <pad> <pad> <pad> <pad> <pad> <pad> <pad> <pad> <pad> <pad> <pad> <pad> <pad>\n",
            "<sos> there is a picture of a green , white , black , and red flag . <eos> <pad> <pad> <pad> <pad> <pad> <pad> <pad> <pad> <pad> <pad> <pad> <pad>\n",
            "<sos> this man in the yellow shirt is adjusting blue bicycle for a young boy . <eos> <pad> <pad> <pad> <pad> <pad> <pad> <pad> <pad> <pad> <pad> <pad> <pad> <pad>\n",
            "<sos> several women sitting in chairs in front of a wall of mirrors . <eos> <pad> <pad> <pad> <pad> <pad> <pad> <pad> <pad> <pad> <pad> <pad> <pad> <pad> <pad> <pad>\n",
            "<sos> a child in a knight costume having his picture taken . <eos> <pad> <pad> <pad> <pad> <pad> <pad> <pad> <pad> <pad> <pad> <pad> <pad> <pad> <pad> <pad> <pad> <pad>\n",
            "<sos> a guy is flinging water out of a pale into a fountain . <eos> <pad> <pad> <pad> <pad> <pad> <pad> <pad> <pad> <pad> <pad> <pad> <pad> <pad> <pad> <pad>\n",
            "<sos> child swimming underwater with a toy in his hand . <eos> <pad> <pad> <pad> <pad> <pad> <pad> <pad> <pad> <pad> <pad> <pad> <pad> <pad> <pad> <pad> <pad> <pad> <pad>\n",
            "<sos> three men , one wearing a hat and two who are not , are kneeling on the ground digging in the dirt surrounding a cement platform . <eos> <pad>\n",
            "<sos> people on the city street walk past a puppet theater . <eos> <pad> <pad> <pad> <pad> <pad> <pad> <pad> <pad> <pad> <pad> <pad> <pad> <pad> <pad> <pad> <pad> <pad>\n",
            "<sos> a professional swimmer racing to the finish line . <eos> <pad> <pad> <pad> <pad> <pad> <pad> <pad> <pad> <pad> <pad> <pad> <pad> <pad> <pad> <pad> <pad> <pad> <pad> <pad>\n",
            "<sos> a group of people are outside playing basketball while the sun sets in the background . <eos> <pad> <pad> <pad> <pad> <pad> <pad> <pad> <pad> <pad> <pad> <pad> <pad>\n",
            "<sos> a man with no shirt is playing tennis . <eos> <pad> <pad> <pad> <pad> <pad> <pad> <pad> <pad> <pad> <pad> <pad> <pad> <pad> <pad> <pad> <pad> <pad> <pad> <pad>\n",
            "<sos> a very large brown dog is playing with a smaller curly - haired dog . <eos> <pad> <pad> <pad> <pad> <pad> <pad> <pad> <pad> <pad> <pad> <pad> <pad> <pad>\n",
            "<sos> young lady during a performance of modern dance . <eos> <pad> <pad> <pad> <pad> <pad> <pad> <pad> <pad> <pad> <pad> <pad> <pad> <pad> <pad> <pad> <pad> <pad> <pad> <pad>\n",
            "<sos> two women wearing boots and holding bags are talking to each other . <eos> <pad> <pad> <pad> <pad> <pad> <pad> <pad> <pad> <pad> <pad> <pad> <pad> <pad> <pad> <pad>\n",
            "<sos> three african women dancing in native african attire while a group of people watch . <eos> <pad> <pad> <pad> <pad> <pad> <pad> <pad> <pad> <pad> <pad> <pad> <pad> <pad>\n",
            "<sos> two older men using tongs to grab food from a breakfast buffet . <eos> <pad> <pad> <pad> <pad> <pad> <pad> <pad> <pad> <pad> <pad> <pad> <pad> <pad> <pad> <pad>\n",
            "<sos> a man in a white shirt is sitting in front of a microphone , playing a guitar . <eos> <pad> <pad> <pad> <pad> <pad> <pad> <pad> <pad> <pad> <pad>\n",
            "<sos> man in a black suit , white shirt and black bowtie playing an instrument with the rest of his symphony surrounding him . <eos> <pad> <pad> <pad> <pad> <pad>\n",
            "<sos> several men wearing ethnic hats are watching the photographer in an outdoor market . <eos> <pad> <pad> <pad> <pad> <pad> <pad> <pad> <pad> <pad> <pad> <pad> <pad> <pad> <pad>\n",
            "<sos> a man wearing a red tie and suit is speaking to a crowd . <eos> <pad> <pad> <pad> <pad> <pad> <pad> <pad> <pad> <pad> <pad> <pad> <pad> <pad> <pad>\n",
            "<sos> an early morning rush hour in the middle of the city . <eos> <pad> <pad> <pad> <pad> <pad> <pad> <pad> <pad> <pad> <pad> <pad> <pad> <pad> <pad> <pad> <pad>\n",
            "<sos> a woman in a green dress waits with her luggage . <eos> <pad> <pad> <pad> <pad> <pad> <pad> <pad> <pad> <pad> <pad> <pad> <pad> <pad> <pad> <pad> <pad> <pad>\n",
            "<sos> two men with backpacks on looking at lingerie in a window . <eos> <pad> <pad> <pad> <pad> <pad> <pad> <pad> <pad> <pad> <pad> <pad> <pad> <pad> <pad> <pad> <pad>\n",
            "<sos> two asian women sitting at a table eating asian food . <eos> <pad> <pad> <pad> <pad> <pad> <pad> <pad> <pad> <pad> <pad> <pad> <pad> <pad> <pad> <pad> <pad> <pad>\n",
            "<sos> men in safety vests are working on a track . <eos> <pad> <pad> <pad> <pad> <pad> <pad> <pad> <pad> <pad> <pad> <pad> <pad> <pad> <pad> <pad> <pad> <pad> <pad>\n",
            "<sos> a group of motorcyclists sit on their bikes on a street . <eos> <pad> <pad> <pad> <pad> <pad> <pad> <pad> <pad> <pad> <pad> <pad> <pad> <pad> <pad> <pad> <pad>\n",
            "<sos> a small girl climbs a rock wall . <eos> <pad> <pad> <pad> <pad> <pad> <pad> <pad> <pad> <pad> <pad> <pad> <pad> <pad> <pad> <pad> <pad> <pad> <pad> <pad> <pad>\n",
            "<sos> a boy rides his bike in a skate park . <eos> <pad> <pad> <pad> <pad> <pad> <pad> <pad> <pad> <pad> <pad> <pad> <pad> <pad> <pad> <pad> <pad> <pad> <pad>\n",
            "<sos> two men on a blue canoe in the middle of a large body of water . <eos> <pad> <pad> <pad> <pad> <pad> <pad> <pad> <pad> <pad> <pad> <pad> <pad>\n",
            "<sos> a man wearing a white hard hat is in the middle of hammering a nail into a thick board . <eos> <pad> <pad> <pad> <pad> <pad> <pad> <pad> <pad>\n",
            "<sos> the <unk> and a female vocalist share a microphone while a second man looks on . <eos> <pad> <pad> <pad> <pad> <pad> <pad> <pad> <pad> <pad> <pad> <pad> <pad>\n",
            "<sos> the brown and white dog is walking in shallow waters . <eos> <pad> <pad> <pad> <pad> <pad> <pad> <pad> <pad> <pad> <pad> <pad> <pad> <pad> <pad> <pad> <pad> <pad>\n",
            "<sos> a bride gets out of her car in her white wedding dress . <eos> <pad> <pad> <pad> <pad> <pad> <pad> <pad> <pad> <pad> <pad> <pad> <pad> <pad> <pad> <pad>\n",
            "<sos> white dog with dark markings jumping to catch an object . <eos> <pad> <pad> <pad> <pad> <pad> <pad> <pad> <pad> <pad> <pad> <pad> <pad> <pad> <pad> <pad> <pad> <pad>\n",
            "<sos> a woman is laying on a striped couch on a grassy yard in a residential neighborhood . <eos> <pad> <pad> <pad> <pad> <pad> <pad> <pad> <pad> <pad> <pad> <pad>\n",
            "torch.Size([25, 128])\n",
            "<SOS> eine gruppe junger personen sitzt gemütlich auf einem sofa . <EOS> <pad> <pad> <pad> <pad> <pad> <pad> <pad> <pad> <pad> <pad> <pad> <pad> <pad>\n",
            "<SOS> drei frauen und ein mann gehen am straßenrand . <EOS> <pad> <pad> <pad> <pad> <pad> <pad> <pad> <pad> <pad> <pad> <pad> <pad> <pad> <pad>\n",
            "<SOS> ein mann in einem mantel spielt auf dem gehweg in einer stadt auf einer <unk> . <EOS> <pad> <pad> <pad> <pad> <pad> <pad> <pad>\n",
            "<SOS> eine frau knabbert an etwas zu essen , das sie in den händen hält . <EOS> <pad> <pad> <pad> <pad> <pad> <pad> <pad> <pad>\n",
            "<SOS> ein mann und zwei frauen unterstützen einen straßenverkäufer . <EOS> <pad> <pad> <pad> <pad> <pad> <pad> <pad> <pad> <pad> <pad> <pad> <pad> <pad> <pad>\n",
            "<SOS> vier personen stehen um einen blauen gabelstapler herum . <EOS> <pad> <pad> <pad> <pad> <pad> <pad> <pad> <pad> <pad> <pad> <pad> <pad> <pad> <pad>\n",
            "<SOS> zwei fußballteams befinden sich auf dem spielfeld , das eine team trägt blau-weiße , das andere team weiß-blauen trikots . <EOS> <pad> <pad> <pad>\n",
            "<SOS> ein mann steht vor einem tor in einem hügel . <EOS> <pad> <pad> <pad> <pad> <pad> <pad> <pad> <pad> <pad> <pad> <pad> <pad> <pad>\n",
            "<SOS> ein paar tanzt mit geschlossenen augen , während andere personen zusehen . <EOS> <pad> <pad> <pad> <pad> <pad> <pad> <pad> <pad> <pad> <pad> <pad>\n",
            "<SOS> männer in weißen anzügen stehen in der straße und entlang der straßenseite . <EOS> <pad> <pad> <pad> <pad> <pad> <pad> <pad> <pad> <pad> <pad>\n",
            "<SOS> zwei männer fahren mit ihren skateboards in der mitte der straße . <EOS> <pad> <pad> <pad> <pad> <pad> <pad> <pad> <pad> <pad> <pad> <pad>\n",
            "<SOS> ein junge steht in der nähe von zum trocknen <unk> wäsche . <EOS> <pad> <pad> <pad> <pad> <pad> <pad> <pad> <pad> <pad> <pad> <pad>\n",
            "<SOS> ein fröhlich lächelndes kleinkind sitzt auf einer schönen blauen , weißen und gelben decke und wirft einen blauen ball . <EOS> <pad> <pad> <pad>\n",
            "<SOS> in einer menschenmenge sind sowohl lächelnde personen , als auch personen , die fotos machen , zu sehen . <EOS> <pad> <pad> <pad> <pad>\n",
            "<SOS> viele verschiedene menschen laufen über einen marktplatz . <EOS> <pad> <pad> <pad> <pad> <pad> <pad> <pad> <pad> <pad> <pad> <pad> <pad> <pad> <pad> <pad>\n",
            "<SOS> ein mann in einer gelben sicherheitsweste hilft bei der vorbereitung eines flugzeugs . <EOS> <pad> <pad> <pad> <pad> <pad> <pad> <pad> <pad> <pad> <pad>\n",
            "<SOS> ein weiß und brauner hund spielt mit einem spielzeug im dreck . <EOS> <pad> <pad> <pad> <pad> <pad> <pad> <pad> <pad> <pad> <pad> <pad>\n",
            "<SOS> ein mann lehnt sich vor , um eine frau auf einem fahrrad in der nähe einer palme zu küssen . <EOS> <pad> <pad> <pad>\n",
            "<SOS> zwei hunde laufen über kargen boden . <EOS> <pad> <pad> <pad> <pad> <pad> <pad> <pad> <pad> <pad> <pad> <pad> <pad> <pad> <pad> <pad> <pad>\n",
            "<SOS> ein junge , der ein spinnen <unk> hemd trägt , sitzt auf dem sand . <EOS> <pad> <pad> <pad> <pad> <pad> <pad> <pad> <pad>\n",
            "<SOS> ein kind betrachtet eine <unk> in der hand eines anderen kinds . <EOS> <pad> <pad> <pad> <pad> <pad> <pad> <pad> <pad> <pad> <pad> <pad>\n",
            "<SOS> ein motocrossfahrer mit roten <unk> von schlamm und regen befindet sich auf seinem motorrad . <EOS> <pad> <pad> <pad> <pad> <pad> <pad> <pad> <pad>\n",
            "<SOS> eine kostümierte frau spielt auf einer bank ein instrument . <EOS> <pad> <pad> <pad> <pad> <pad> <pad> <pad> <pad> <pad> <pad> <pad> <pad> <pad>\n",
            "<SOS> ein junge mit einem dunklen und eine frau in einem braunen oberteil spielen mit einem lilafarbenen stofftier . <EOS> <pad> <pad> <pad> <pad> <pad>\n",
            "<SOS> eine person in schwarzen hosen und einem schwarzen t-shirt hüpft auf einem platz mit springbrunnen . <EOS> <pad> <pad> <pad> <pad> <pad> <pad> <pad>\n",
            "<SOS> eine frau und ein mädchen schauen zusammen auf eine <unk> kugel . <EOS> <pad> <pad> <pad> <pad> <pad> <pad> <pad> <pad> <pad> <pad> <pad>\n",
            "<SOS> ein mann hockt neben einem kleinen mädchen auf dem bürgersteig . <EOS> <pad> <pad> <pad> <pad> <pad> <pad> <pad> <pad> <pad> <pad> <pad> <pad>\n",
            "<SOS> ein mann tollt bei sonnenuntergang in der goldenen brandung am strand herum . <EOS> <pad> <pad> <pad> <pad> <pad> <pad> <pad> <pad> <pad> <pad>\n",
            "<SOS> ein hund fängt einen tennisball auf einem flecken grünem gras . <EOS> <pad> <pad> <pad> <pad> <pad> <pad> <pad> <pad> <pad> <pad> <pad> <pad>\n",
            "<SOS> zwei männer diskutieren <unk> in der nähe einer wand mit graffiti . <EOS> <pad> <pad> <pad> <pad> <pad> <pad> <pad> <pad> <pad> <pad> <pad>\n",
            "<SOS> ein mann springt nach einer frisbee , während ein mann und eine frau auf ihn <unk> . <EOS> <pad> <pad> <pad> <pad> <pad> <pad>\n",
            "<SOS> ein mann und eine frau halten händchen auf einem grasbewachsenen feld . <EOS> <pad> <pad> <pad> <pad> <pad> <pad> <pad> <pad> <pad> <pad> <pad>\n",
            "<SOS> ein junges paar fängt gerade an , auf einem couchtisch im wohnzimmer jenga zu spielen . <EOS> <pad> <pad> <pad> <pad> <pad> <pad> <pad>\n",
            "<SOS> eine frau hält einen schwarzen und einen roten fächer und trägt ein rotes kleid . <EOS> <pad> <pad> <pad> <pad> <pad> <pad> <pad> <pad>\n",
            "<SOS> ein <unk> gekleideter clown hält etwas an seinen mund . <EOS> <pad> <pad> <pad> <pad> <pad> <pad> <pad> <pad> <pad> <pad> <pad> <pad> <pad>\n",
            "<SOS> die sonne scheint hell auf den schnee , der ein paar leute umgibt . <EOS> <pad> <pad> <pad> <pad> <pad> <pad> <pad> <pad> <pad>\n",
            "<SOS> ein kleines mädchen rutscht lachend eine rutsche herunter . <EOS> <pad> <pad> <pad> <pad> <pad> <pad> <pad> <pad> <pad> <pad> <pad> <pad> <pad> <pad>\n",
            "<SOS> zwei kleine kinder spielen glücklich auf einer reifenschaukel . <EOS> <pad> <pad> <pad> <pad> <pad> <pad> <pad> <pad> <pad> <pad> <pad> <pad> <pad> <pad>\n",
            "<SOS> ein beleuchteter imbisswagen steht auf einer straße in der dämmerung . <EOS> <pad> <pad> <pad> <pad> <pad> <pad> <pad> <pad> <pad> <pad> <pad> <pad>\n",
            "<SOS> ein mann in einem gelben overall rudert ein boot , vorne ein vogel . <EOS> <pad> <pad> <pad> <pad> <pad> <pad> <pad> <pad> <pad>\n",
            "<SOS> ein brauner hund und ein weißes plüschtier . <EOS> <pad> <pad> <pad> <pad> <pad> <pad> <pad> <pad> <pad> <pad> <pad> <pad> <pad> <pad> <pad>\n",
            "<SOS> ein kleiner junge mit badehose spielt im meer . <EOS> <pad> <pad> <pad> <pad> <pad> <pad> <pad> <pad> <pad> <pad> <pad> <pad> <pad> <pad>\n",
            "<SOS> ein motorradfahrer macht einen luftsprung und jemand im hintergrund sieht zu . <EOS> <pad> <pad> <pad> <pad> <pad> <pad> <pad> <pad> <pad> <pad> <pad>\n",
            "<SOS> bauarbeiten im inneren eines hauses . <EOS> <pad> <pad> <pad> <pad> <pad> <pad> <pad> <pad> <pad> <pad> <pad> <pad> <pad> <pad> <pad> <pad> <pad>\n",
            "<SOS> ein junges mädchen mit brille und trainingsanzug schwingt einen schläger . <EOS> <pad> <pad> <pad> <pad> <pad> <pad> <pad> <pad> <pad> <pad> <pad> <pad>\n",
            "<SOS> eine gruppe männlicher personen mit helm steht in einer reihe , im hintergrund sind flaggen und eine menschenmenge . <EOS> <pad> <pad> <pad> <pad>\n",
            "<SOS> ein rothaariger mann , der auf seinem fahrrad arbeitet . <EOS> <pad> <pad> <pad> <pad> <pad> <pad> <pad> <pad> <pad> <pad> <pad> <pad> <pad>\n",
            "<SOS> eine aus mehreren männlichen teenagern bestehende gruppe geht mit einer mülltüte am straßenrand entlang . <EOS> <pad> <pad> <pad> <pad> <pad> <pad> <pad> <pad>\n",
            "<SOS> ein mann in einer lederjacke dirigiert in einem <unk> eine große blaskapelle , deren mitglieder weihnachtsmannmützen tragen . <EOS> <pad> <pad> <pad> <pad> <pad>\n",
            "<SOS> eine frau trägt eine lila bluse in einem park . <EOS> <pad> <pad> <pad> <pad> <pad> <pad> <pad> <pad> <pad> <pad> <pad> <pad> <pad>\n",
            "<SOS> ein mädchen mit schwarzen handschuhen rennt . <EOS> <pad> <pad> <pad> <pad> <pad> <pad> <pad> <pad> <pad> <pad> <pad> <pad> <pad> <pad> <pad> <pad>\n",
            "<SOS> personen stellen sich für den <unk> in frankreich auf . <EOS> <pad> <pad> <pad> <pad> <pad> <pad> <pad> <pad> <pad> <pad> <pad> <pad> <pad>\n",
            "<SOS> ein mann auf einer weißen <unk> auf einem see . <EOS> <pad> <pad> <pad> <pad> <pad> <pad> <pad> <pad> <pad> <pad> <pad> <pad> <pad>\n",
            "<SOS> zwei personen führen zwei goldgelbe hunde im schnee aus . <EOS> <pad> <pad> <pad> <pad> <pad> <pad> <pad> <pad> <pad> <pad> <pad> <pad> <pad>\n",
            "<SOS> ein mensch wird aus dem wasser mit einem alten <unk> gehoben . <EOS> <pad> <pad> <pad> <pad> <pad> <pad> <pad> <pad> <pad> <pad> <pad>\n",
            "<SOS> eine frau blickt von einem hohen aussichtspunkt über den ruhigen blauen ozean . <EOS> <pad> <pad> <pad> <pad> <pad> <pad> <pad> <pad> <pad> <pad>\n",
            "<SOS> eine gruppe fahrradfahrer fährt auf der straße . <EOS> <pad> <pad> <pad> <pad> <pad> <pad> <pad> <pad> <pad> <pad> <pad> <pad> <pad> <pad> <pad>\n",
            "<SOS> ein weiß auto rast durch schlamm und wasser . <EOS> <pad> <pad> <pad> <pad> <pad> <pad> <pad> <pad> <pad> <pad> <pad> <pad> <pad> <pad>\n",
            "<SOS> ein radfahrer vollführt in der nähe von bäumen einen sprung . <EOS> <pad> <pad> <pad> <pad> <pad> <pad> <pad> <pad> <pad> <pad> <pad> <pad>\n",
            "<SOS> feuerwehrleute leisten hilfe bei einem einsatz an einer stelle , an der ein <unk> passiert ist . <EOS> <pad> <pad> <pad> <pad> <pad> <pad>\n",
            "<SOS> eine frau in einem blauen t-shirt schaut in ein schaufenster . <EOS> <pad> <pad> <pad> <pad> <pad> <pad> <pad> <pad> <pad> <pad> <pad> <pad>\n",
            "<SOS> eine frau in einem grünen oberteil liest drei kindern aus einem <unk> vor . <EOS> <pad> <pad> <pad> <pad> <pad> <pad> <pad> <pad> <pad>\n",
            "<SOS> eine gruppe männer steht bei einem weißen lastwagen . <EOS> <pad> <pad> <pad> <pad> <pad> <pad> <pad> <pad> <pad> <pad> <pad> <pad> <pad> <pad>\n",
            "<SOS> ein mann steht in einem roten hemd und grauer hose im freien auf beton . <EOS> <pad> <pad> <pad> <pad> <pad> <pad> <pad> <pad>\n",
            "<SOS> ein junger mann bläst ballons auf und formt daraus tiere für die sieben <unk> <unk> kinder . <EOS> <pad> <pad> <pad> <pad> <pad> <pad>\n",
            "<SOS> ein fechtwettkampf zwischen <unk> und italien <EOS> <pad> <pad> <pad> <pad> <pad> <pad> <pad> <pad> <pad> <pad> <pad> <pad> <pad> <pad> <pad> <pad> <pad>\n",
            "<SOS> mehrere <unk> stehen in einem operationssaal um einen patienten herum . <EOS> <pad> <pad> <pad> <pad> <pad> <pad> <pad> <pad> <pad> <pad> <pad> <pad>\n",
            "<SOS> footballspieler in <unk> trikots spielen im stadion gegen eine mannschaft in <unk> trikots . <EOS> <pad> <pad> <pad> <pad> <pad> <pad> <pad> <pad> <pad>\n",
            "<SOS> ein ritter auf einem pferd und ein anderer mann spielen für eine gruppe von zuschauern eine <unk> szene nach . <EOS> <pad> <pad> <pad>\n",
            "<SOS> ein mann spielt bei sonnenuntergang ball . <EOS> <pad> <pad> <pad> <pad> <pad> <pad> <pad> <pad> <pad> <pad> <pad> <pad> <pad> <pad> <pad> <pad>\n",
            "<SOS> eine band macht eine show am ufer eines gewässers in der nacht und eine menschenmenge tanzt wie verrückt . <EOS> <pad> <pad> <pad> <pad>\n",
            "<SOS> ein mann mit weißem hemd und krawatte überquert die straße . <EOS> <pad> <pad> <pad> <pad> <pad> <pad> <pad> <pad> <pad> <pad> <pad> <pad>\n",
            "<SOS> mehrere menschen verlassen ein <unk> . <EOS> <pad> <pad> <pad> <pad> <pad> <pad> <pad> <pad> <pad> <pad> <pad> <pad> <pad> <pad> <pad> <pad> <pad>\n",
            "<SOS> ein mann mit weißem helm lässt die reifen seines <unk> motorrads <unk> . <EOS> <pad> <pad> <pad> <pad> <pad> <pad> <pad> <pad> <pad> <pad>\n",
            "<SOS> ein <unk> hält einen fallenden baseballschläger . <EOS> <pad> <pad> <pad> <pad> <pad> <pad> <pad> <pad> <pad> <pad> <pad> <pad> <pad> <pad> <pad> <pad>\n",
            "<SOS> vier leute gehen auf der straße , und einer versucht , in einen einkaufswagen zu springen . <EOS> <pad> <pad> <pad> <pad> <pad> <pad>\n",
            "<SOS> mehrere personen bei einer freiluftveranstaltung . <EOS> <pad> <pad> <pad> <pad> <pad> <pad> <pad> <pad> <pad> <pad> <pad> <pad> <pad> <pad> <pad> <pad> <pad>\n",
            "<SOS> ein männlicher biker springt bei einem wettkampf auf einer rampe oder überquert die ziellinie . <EOS> <pad> <pad> <pad> <pad> <pad> <pad> <pad> <pad>\n",
            "<SOS> zwei kleine jungen spielen mit einem puzzle in einem klassenzimmer . <EOS> <pad> <pad> <pad> <pad> <pad> <pad> <pad> <pad> <pad> <pad> <pad> <pad>\n",
            "<SOS> ein basketballspiel zwischen <unk> in der big <unk> <unk> . <EOS> <pad> <pad> <pad> <pad> <pad> <pad> <pad> <pad> <pad> <pad> <pad> <pad> <pad>\n",
            "<SOS> eine frau lacht , als sie von einem braunen hund abgeleckt wird . <EOS> <pad> <pad> <pad> <pad> <pad> <pad> <pad> <pad> <pad> <pad>\n",
            "<SOS> ein mann in einem grauen mantel balanciert auf einem gefällten baumstamm im wald . <EOS> <pad> <pad> <pad> <pad> <pad> <pad> <pad> <pad> <pad>\n",
            "<SOS> zwei frauen führen ein gespräch in einem fast komplett weißen , modernen büro . <EOS> <pad> <pad> <pad> <pad> <pad> <pad> <pad> <pad> <pad>\n",
            "<SOS> eine komplett schwarz gekleidete frau geht am fenster eines <unk> vorbei . <EOS> <pad> <pad> <pad> <pad> <pad> <pad> <pad> <pad> <pad> <pad> <pad>\n",
            "<SOS> drei männer laden gegenstände auf ihr blaues boot . <EOS> <pad> <pad> <pad> <pad> <pad> <pad> <pad> <pad> <pad> <pad> <pad> <pad> <pad> <pad>\n",
            "<SOS> <unk> stehen in der nacht um ein brennendes gebäude herum und bespritzen es aus verschiedenen richtungen mit wasser . <EOS> <pad> <pad> <pad> <pad>\n",
            "<SOS> ein mann und eine frau lachen zusammen . <EOS> <pad> <pad> <pad> <pad> <pad> <pad> <pad> <pad> <pad> <pad> <pad> <pad> <pad> <pad> <pad>\n",
            "<SOS> eine gruppe leute fährt auf der ladefläche eines lastwagens auf einer schotterstraße . <EOS> <pad> <pad> <pad> <pad> <pad> <pad> <pad> <pad> <pad> <pad>\n",
            "<SOS> eine frau trägt ein kleines kind auf ihrer hüfte . <EOS> <pad> <pad> <pad> <pad> <pad> <pad> <pad> <pad> <pad> <pad> <pad> <pad> <pad>\n",
            "<SOS> zwei gokart-fahrer fahren auf der rennstrecke . <EOS> <pad> <pad> <pad> <pad> <pad> <pad> <pad> <pad> <pad> <pad> <pad> <pad> <pad> <pad> <pad> <pad>\n",
            "<SOS> eine person in einem grünen t-shirt sitzt auf dem boden in der nähe von einem zaun , mit obst vor ihr ausgelegt . <EOS>\n",
            "<SOS> ein skateboardfahrer fliegt durch die luft , während andere zuschauen . <EOS> <pad> <pad> <pad> <pad> <pad> <pad> <pad> <pad> <pad> <pad> <pad> <pad>\n",
            "<SOS> mann in geschäftskleidung springt von der seite eines gebäudes . <EOS> <pad> <pad> <pad> <pad> <pad> <pad> <pad> <pad> <pad> <pad> <pad> <pad> <pad>\n",
            "<SOS> es ist ein bild einer grünen , weißen , schwarzen und roten flagge zu sehen . <EOS> <pad> <pad> <pad> <pad> <pad> <pad> <pad>\n",
            "<SOS> der mann in dem gelben oberteil stellt ein blaues fahrrad für einen kleinen jungen ein . <EOS> <pad> <pad> <pad> <pad> <pad> <pad> <pad>\n",
            "<SOS> mehrere frauen , die vor einer <unk> in sesseln sitzen . <EOS> <pad> <pad> <pad> <pad> <pad> <pad> <pad> <pad> <pad> <pad> <pad> <pad>\n",
            "<SOS> ein kind in einem <unk> lässt ein foto von sich machen . <EOS> <pad> <pad> <pad> <pad> <pad> <pad> <pad> <pad> <pad> <pad> <pad>\n",
            "<SOS> ein mann schüttet wasser von einem pfahl in einen brunnen . <EOS> <pad> <pad> <pad> <pad> <pad> <pad> <pad> <pad> <pad> <pad> <pad> <pad>\n",
            "<SOS> ein kind schwimmt mit einem spielzeug in der hand unter wasser . <EOS> <pad> <pad> <pad> <pad> <pad> <pad> <pad> <pad> <pad> <pad> <pad>\n",
            "<SOS> drei männer , einer mit kopfbedeckung und zwei ohne , knien auf dem boden und graben in der erde um ein <unk> . <EOS>\n",
            "<SOS> menschen auf der straße in der stadt gehen an einem <unk> vorbei . <EOS> <pad> <pad> <pad> <pad> <pad> <pad> <pad> <pad> <pad> <pad>\n",
            "<SOS> ein professioneller schwimmer , der schnell zur ziellinie schwimmt . <EOS> <pad> <pad> <pad> <pad> <pad> <pad> <pad> <pad> <pad> <pad> <pad> <pad> <pad>\n",
            "<SOS> eine gruppe von personen spielt im freien basketball , während im hintergrund die sonne untergeht . <EOS> <pad> <pad> <pad> <pad> <pad> <pad> <pad>\n",
            "<SOS> ein mann mit freiem oberkörper spielt tennis . <EOS> <pad> <pad> <pad> <pad> <pad> <pad> <pad> <pad> <pad> <pad> <pad> <pad> <pad> <pad> <pad>\n",
            "<SOS> ein sehr großer brauner hund spielt mit einem kleineren lockigen hund . <EOS> <pad> <pad> <pad> <pad> <pad> <pad> <pad> <pad> <pad> <pad> <pad>\n",
            "<SOS> eine junge frau führt eine <unk> <unk> auf . <EOS> <pad> <pad> <pad> <pad> <pad> <pad> <pad> <pad> <pad> <pad> <pad> <pad> <pad> <pad>\n",
            "<SOS> zwei frauen die stiefel und taschen tragen , unterhalten sich miteinander . <EOS> <pad> <pad> <pad> <pad> <pad> <pad> <pad> <pad> <pad> <pad> <pad>\n",
            "<SOS> drei afrikanische frauen tanzen in einheimischer afrikanischer kleidung , während einer gruppe leuten zuguckt . <EOS> <pad> <pad> <pad> <pad> <pad> <pad> <pad> <pad>\n",
            "<SOS> zwei ältere männer verwenden <unk> , um sich an einem <unk> zu bedienen . <EOS> <pad> <pad> <pad> <pad> <pad> <pad> <pad> <pad> <pad>\n",
            "<SOS> ein mann in einem weißen hemd sitzt vor einem mikrophon und spielt gitarre . <EOS> <pad> <pad> <pad> <pad> <pad> <pad> <pad> <pad> <pad>\n",
            "<SOS> mann in schwarzem anzug , weißem hemd und schwarzer fliege spielt ein instrument im kreis seiner <unk> <unk> . <EOS> <pad> <pad> <pad> <pad>\n",
            "<SOS> mehrere männer mit <unk> hüten betrachten den fotografen auf einem markt . <EOS> <pad> <pad> <pad> <pad> <pad> <pad> <pad> <pad> <pad> <pad> <pad>\n",
            "<SOS> ein mann im anzug mit roter krawatte spricht vor publikum . <EOS> <pad> <pad> <pad> <pad> <pad> <pad> <pad> <pad> <pad> <pad> <pad> <pad>\n",
            "<SOS> <unk> <unk> mitten in der stadt am frühen morgen . <EOS> <pad> <pad> <pad> <pad> <pad> <pad> <pad> <pad> <pad> <pad> <pad> <pad> <pad>\n",
            "<SOS> eine frau in grünem kleid wartet mit ihrem gepäck . <EOS> <pad> <pad> <pad> <pad> <pad> <pad> <pad> <pad> <pad> <pad> <pad> <pad> <pad>\n",
            "<SOS> zwei männer mit rucksäcken betrachten damenunterwäsche in einem schaufenster . <EOS> <pad> <pad> <pad> <pad> <pad> <pad> <pad> <pad> <pad> <pad> <pad> <pad> <pad>\n",
            "<SOS> zwei asiatische frauen sitzen an einem tisch und essen asiatisches essen . <EOS> <pad> <pad> <pad> <pad> <pad> <pad> <pad> <pad> <pad> <pad> <pad>\n",
            "<SOS> männer in schutzwesten arbeiten auf einem gleis . <EOS> <pad> <pad> <pad> <pad> <pad> <pad> <pad> <pad> <pad> <pad> <pad> <pad> <pad> <pad> <pad>\n",
            "<SOS> mehrere motorradfahrer sitzen auf einer straße auf ihren motorrädern . <EOS> <pad> <pad> <pad> <pad> <pad> <pad> <pad> <pad> <pad> <pad> <pad> <pad> <pad>\n",
            "<SOS> ein kleines mädchen klettert eine felswand hoch . <EOS> <pad> <pad> <pad> <pad> <pad> <pad> <pad> <pad> <pad> <pad> <pad> <pad> <pad> <pad> <pad>\n",
            "<SOS> ein junge fährt in einem skaterpark auf seinem fahrrad . <EOS> <pad> <pad> <pad> <pad> <pad> <pad> <pad> <pad> <pad> <pad> <pad> <pad> <pad>\n",
            "<SOS> zwei männer sind in einem blauen kanu in der mitte eines großen sees . <EOS> <pad> <pad> <pad> <pad> <pad> <pad> <pad> <pad> <pad>\n",
            "<SOS> ein mann mit einem weißen helm ist dabei , einen nagel in ein <unk> brett zu schlagen . <EOS> <pad> <pad> <pad> <pad> <pad>\n",
            "<SOS> ein <unk> und eine sängerin teilen sich ein mikrofon während ein zweiter mann zuschaut . <EOS> <pad> <pad> <pad> <pad> <pad> <pad> <pad> <pad>\n",
            "<SOS> der braun und weiße hund , geht durch flaches wasser . <EOS> <pad> <pad> <pad> <pad> <pad> <pad> <pad> <pad> <pad> <pad> <pad> <pad>\n",
            "<SOS> eine braut steigt in ihrem weißen hochzeitskleid aus dem auto . <EOS> <pad> <pad> <pad> <pad> <pad> <pad> <pad> <pad> <pad> <pad> <pad> <pad>\n",
            "<SOS> weiße hunde mit schwarzen abzeichen springen , um einen gegenstand zu fangen . <EOS> <pad> <pad> <pad> <pad> <pad> <pad> <pad> <pad> <pad> <pad>\n",
            "<SOS> eine frau liegt auf einem gestreiften sofa in einer wohngegend auf einem grasbewachsenen hof . <EOS> <pad> <pad> <pad> <pad> <pad> <pad> <pad> <pad>\n"
          ],
          "name": "stdout"
        }
      ]
    },
    {
      "cell_type": "markdown",
      "metadata": {
        "id": "SfKxFJtra9JI",
        "colab_type": "text"
      },
      "source": [
        "> 최대 길이에 맞춰 padding된 것을 볼 수 있습니다.\n"
      ]
    },
    {
      "cell_type": "markdown",
      "metadata": {
        "id": "GiEY4xb75GPt",
        "colab_type": "text"
      },
      "source": [
        "# Defining our `nn.Module` and `Optimizer`\n",
        "이는 `torchtext`관점에서 주로 이루어지는 것으로, dataset이 만들어지고 iterator가 정의되면 이 튜토리얼의 나머지 부분은 단순히 `nn.Module`로 우리의 모델을 만들고 `Optimizer`를 정한 후 학습시키면 끝납니다.\n",
        "\n",
        "우리 모델은 구체적으로 특별히 [여기](https://arxiv.org/abs/1409.0473) 묘사된 구조를 따릅니다 (더 많은 설명은 [이곳](https://github.com/SethHWeidman/pytorch-seq2seq/blob/master/3%20-%20Neural%20Machine%20Translation%20by%20Jointly%20Learning%20to%20Align%20and%20Translate.ipynb))\n",
        "\n",
        "**Note**  \n",
        "이 모델은 언어 번역에서 사용할 수 있는 단순한 예제로, 이가 standard한 모델이기 때문에 사용한 것이지 번역을 위해 추천되는 모델이기 때문이 아닙니다. 알다시피 SOTA(State_Of_The_Art: 가장 좋은) 모델은 Transformer에 기반하고 있습니다. [이곳](https://pytorch.org/docs/stable/nn.html#transformer-layers)에서 PyTorch 구현을 볼 수 있습니다. 특히, 아래에서 사용된 \"attention\" 모델은 transformer에서 구현된 multi-headed self-attention과는 다릅니다.\n",
        "\n"
      ]
    },
    {
      "cell_type": "code",
      "metadata": {
        "id": "D9gUoPDV4XHV",
        "colab_type": "code",
        "outputId": "c743d163-705b-41a7-a9cd-3bb2cd2eb917",
        "colab": {
          "base_uri": "https://localhost:8080/",
          "height": 35
        }
      },
      "source": [
        "# Std. Lib.\n",
        "import random\n",
        "from typing import Tuple    # typing으로 Param.의 type을 강제함.\n",
        "\n",
        "# Torch Lib.\n",
        "import torch.nn as nn\n",
        "import torch.optim as optim\n",
        "import torch.nn.functional as F\n",
        "from torch import Tensor\n",
        "\n",
        "class Encoder(nn.Module):\n",
        "    def __init__(self, input_dim: int, emb_dim: int, enc_hid_dim: int, dec_hid_dim: int, dropout: float):\n",
        "        super(Encoder, self).__init__()\n",
        "        # Constructor\n",
        "        self.input_dim = input_dim\n",
        "        self.emb_dim = emb_dim\n",
        "        self.enc_hid_dim = enc_hid_dim\n",
        "        self.dec_hid_dim = dec_hid_dim\n",
        "        self.dropout = dropout\n",
        "\n",
        "        # 단어의 idx가 들어오면 이를 embedding layer에 넣어 word vector를 얻어준다.\n",
        "        self.embedding = nn.Embedding(input_dim, emb_dim)\n",
        "        # Seq2Seq는 GRU를 사용함. bidirectional한 이유는 언어에 따라 word order가 다르기 때문\n",
        "        self.rnn = nn.GRU(emb_dim, enc_hid_dim, bidirectional=True)\n",
        "        self.fc = nn.Linear(enc_hid_dim * 2, dec_hid_dim)\n",
        "        self.dropout = nn.Dropout(dropout)\n",
        "\n",
        "    def forward(self, src: Tensor) -> Tuple[Tensor]:\n",
        "        # dropout layer의 위치를 주목하자\n",
        "        embedded = self.dropout(self.embedding(src))\n",
        "        outputs, hidden = self.rnn(embedded)\n",
        "        # hidden: (num_layers * num_directions, batch, hidden_size)\n",
        "        # torch.cat((hidden[-2, :, :], hidden[-1, :, :]), dim=1): batch dimension으로 concat\n",
        "        hidden = torch.tanh(self.fc(torch.cat((hidden[-2, :, :], hidden[-1, :, :]), dim=1)))\n",
        "\n",
        "        return outputs, hidden\n",
        "\n",
        "class Attention(nn.Module):\n",
        "    def __init__(self, enc_hid_dim: int, dec_hid_dim: int, attn_dim: int):\n",
        "        super(Attention, self).__init__()\n",
        "        self.enc_hid_dim = enc_hid_dim\n",
        "        self.dec_hid_dim = dec_hid_dim\n",
        "\n",
        "        self.attn_in = (enc_hid_dim) * 2 + dec_hid_dim\n",
        "        self.attn = nn.Linear(self.attn_in, attn_dim)\n",
        "\n",
        "    def forward(self, decoder_hidden: Tensor, encoder_outputs: Tensor) -> Tensor:\n",
        "        src_len = encoder_outputs.shape[0]\n",
        "        repeated_decoder_hidden = decoder_hidden.unsqueeze(1).repeat(1, src_len, 1)\n",
        "        encoder_outputs = encoder_outputs.permute(1, 0, 2)\n",
        "        energy = torch.tanh(self.attn(torch.cat((repeated_decoder_hidden, encoder_outputs), dim=2)))\n",
        "        attention = torch.sum(energy, dim=2)\n",
        "\n",
        "        return F.softmax(attention)\n",
        "\n",
        "class Decoder(nn.Module):\n",
        "    def __init__(self, output_dim: int, emb_dim: int, enc_hid_dim: int, dec_hid_dim: int, dropout: int, attention: nn.Module):\n",
        "        super(Decoder, self).__init__()\n",
        "        self.emb_dim = emb_dim\n",
        "        self.enc_hid_dim = enc_hid_dim\n",
        "        self.dec_hid_dim = dec_hid_dim\n",
        "        self.output_dim = output_dim\n",
        "        self.dropout = dropout\n",
        "        self.attention = attention\n",
        "\n",
        "        self.embedding = nn.Embedding(output_dim, emb_dim)\n",
        "        self.rnn = nn.GRU((enc_hid_dim * 2) + emb_dim, dec_hid_dim)\n",
        "        self.out = nn.Linear(self.attention.attn_in + emb_dim, output_dim)\n",
        "        self.dropout = nn.Dropout(dropout)\n",
        "\n",
        "    def _weighted_encoder_rep(self, decoder_hidden: Tensor, encoder_outputs: Tensor) -> Tensor:\n",
        "        a = self.attention(decoder_hidden, encoder_outputs)\n",
        "        a = a.unsqueeze(1)\n",
        "        encoder_outputs = encoder_outputs.permute(1, 0, 2)\n",
        "        weighted_encoder_rep = torch.bmm(a, encoder_outputs)\n",
        "        weighted_encoder_rep = weighted_encoder_rep.permute(1, 0, 2)\n",
        "\n",
        "        return weighted_encoder_rep\n",
        "\n",
        "    def forward(self, input: Tensor, decoder_hidden: Tensor, encoder_outputs: Tensor) -> Tuple[Tensor]:\n",
        "        input = input.unsqueeze(0)\n",
        "        embedded = self.dropout(self.embedding(input))\n",
        "        weighted_encoder_rep = self._weighted_encoder_rep(decoder_hidden, encoder_outputs)\n",
        "        rnn_input = torch.cat((embedded, weighted_encoder_rep), dim = 2)\n",
        "        output, decoder_hidden = self.rnn(rnn_input, decoder_hidden.unsqueeze(0))\n",
        "        embedded = embedded.squeeze(0)\n",
        "        output = output.squeeze(0)\n",
        "        weighted_encoder_rep = weighted_encoder_rep.squeeze(0)\n",
        "        output = self.out(torch.cat((output, weighted_encoder_rep, embedded), dim = 1))\n",
        "\n",
        "        return output, decoder_hidden.squeeze(0)\n",
        "\n",
        "class Seq2Seq(nn.Module):\n",
        "    def __init__(self, encoder: nn.Module, decoder: nn.Module, device: torch.device):\n",
        "        super(Seq2Seq, self).__init__()\n",
        "        self.encoder = encoder\n",
        "        self.decoder = decoder\n",
        "        self.device = device\n",
        "\n",
        "    def forward(self, src: Tensor, trg: Tensor, teacher_forcing_ratio: float = 0.5) -> Tensor:\n",
        "        batch_size = src.shape[1]\n",
        "        max_len = trg.shape[0]\n",
        "        trg_vocab_size = self.decoder.output_dim\n",
        "        outputs = torch.zeros(max_len, batch_size, trg_vocab_size).to(self.device)\n",
        "        encoder_outputs, hidden = self.encoder(src)\n",
        "\n",
        "        # first input to the decoder is the <sos> token\n",
        "        output = trg[0,:]\n",
        "\n",
        "        for t in range(1, max_len):\n",
        "            output, hidden = self.decoder(output, hidden, encoder_outputs)\n",
        "            outputs[t] = output\n",
        "            teacher_force = random.random() < teacher_forcing_ratio\n",
        "            top1 = output.max(1)[1]\n",
        "            output = (trg[t] if teacher_force else top1)\n",
        "\n",
        "        return outputs\n",
        "\n",
        "\n",
        "INPUT_DIM = len(SRC.vocab)\n",
        "OUTPUT_DIM = len(TRG.vocab)\n",
        "# ENC_EMB_DIM = 256\n",
        "# DEC_EMB_DIM = 256\n",
        "# ENC_HID_DIM = 512\n",
        "# DEC_HID_DIM = 512\n",
        "# ATTN_DIM = 64\n",
        "# ENC_DROPOUT = 0.5\n",
        "# DEC_DROPOUT = 0.5\n",
        "\n",
        "ENC_EMB_DIM = 32\n",
        "DEC_EMB_DIM = 32\n",
        "ENC_HID_DIM = 64\n",
        "DEC_HID_DIM = 64\n",
        "ATTN_DIM = 8\n",
        "ENC_DROPOUT = 0.5\n",
        "DEC_DROPOUT = 0.5\n",
        "\n",
        "enc = Encoder(INPUT_DIM, ENC_EMB_DIM, ENC_HID_DIM, DEC_HID_DIM, ENC_DROPOUT)\n",
        "attn = Attention(ENC_HID_DIM, DEC_HID_DIM, ATTN_DIM)\n",
        "dec = Decoder(OUTPUT_DIM, DEC_EMB_DIM, ENC_HID_DIM, DEC_HID_DIM, DEC_DROPOUT, attn)\n",
        "model = Seq2Seq(enc, dec, device).to(device)\n",
        "\n",
        "def init_weights(m: nn.Module):\n",
        "    for name, param in m.named_parameters():\n",
        "        if 'weight' in name:\n",
        "            nn.init.normal_(param.data, mean=0, std=0.01)\n",
        "        else:\n",
        "            nn.init.constant_(param.data, 0)\n",
        "\n",
        "model.apply(init_weights)\n",
        "optimizer = optim.Adam(model.parameters())\n",
        "\n",
        "def count_parameters(model: nn.Module):\n",
        "    return sum(p.numel() for p in model.parameters() if p.requires_grad)\n",
        "\n",
        "print(f'The model has {count_parameters(model):,} trainable parameters')"
      ],
      "execution_count": 0,
      "outputs": [
        {
          "output_type": "stream",
          "text": [
            "The model has 1,856,685 trainable parameters\n"
          ],
          "name": "stdout"
        }
      ]
    },
    {
      "cell_type": "markdown",
      "metadata": {
        "id": "wMucoRz5Nazu",
        "colab_type": "text"
      },
      "source": [
        "> ## 자세히 살펴보기\n",
        "복잡하므로 하나씩 천천히 해석을 해보겠습니다. 코드 라인을 중심으로 해석할 것이니 위 아래로 왔다갔다해야합니다.  \n",
        "우선 우리의 모델은 `Seq2Seq`에서 제어합니다. 이 모델은 encoder, decoder를 필요로 합니다.\n",
        "```python\n",
        "model = Seq2Seq(enc, dec, device).to(device)\n",
        "```\n",
        "`Seq2Seq`의 forward를 보겠습니다. 여기서는 `src`와 `trg` 텐서를 input으로 받고 있습니다. 이는 `BucketIterator`의 iterator로, 위에 코드로 확인했듯이 다음을 통해 접근 가능합니다.\n",
        ">```python\n",
        "for i, batch in enumerate(train_iterator):\n",
        "    src = batch.src  # [seq_len x B]\n",
        "    trg = batch.trg  # [seq_len x B]\n",
        "```\n",
        "번역을 하다보면 문장이 끊임없이 늘어날 수 있으므로, `seq_len`만큼의 길이를 갖도록 제한을 해줍니다.\n",
        "```python\n",
        "max_len = trg.shape[0]\n",
        "```\n",
        "`outputs`는 decoder를 수행한 결과를 담을 tensor입니다. 처음에 이를 초기화한 이후, 번역의 결과를 담도록 합니다. 차원은 RNN의 input과 같이 **[Seq_len, Batch, input_dim]**을 따를 것입니다.\n",
        "```python\n",
        "outputs = torch.zeros(max_len, batch_size, trg_vocab_size).to(self.device)\n",
        "```\n",
        "이후 얻은 src는 `Encoder`에 넣도록 하겠습니다. 인코더로 얻어지는 결과는 `enocoder_outputs`와 `hidden`으로, `enocoder_outputs`은 input sequence의 back/forward 모든 hidden state이고, `hidden`은 마지막 hidden state로 linear layer에 쓰입니다.\n",
        "```python\n",
        "encoder_outputs, hidden = self.encoder(src)\n",
        "```\n"
      ]
    },
    {
      "cell_type": "markdown",
      "metadata": {
        "id": "_mno-yT2biS0",
        "colab_type": "text"
      },
      "source": [
        "> ## `Encoder`\n",
        "> 앞서 본 src는 `nn.Embedding`으로 전달됩니다. 한 가지 특이사항으로 `nn.Embedding`은 **[Seq_len x B]** 이나 **[B x Seq_len]** 모두의 형태를 input을 받을 수 있습니다. 다음 예시를 봐볼까요?\n",
        "```python\n",
        "emb = nn.Embedding(len(SRC.vocab), 32)\n",
        "emb.to(device)\n",
        "data = batch.src.to(device)\n",
        "data_T = data.T\n",
        "print(f\"Orignal: {data.size()}, Batch_first: {emb(data_T).size()}, Batch_last: {emb(data).size()}\")\n",
        "```\n",
        "```\n",
        "Orignal: torch.Size([30, 128]), Batch_first: torch.Size([128, 30, 32]), Batch_last: torch.Size([30, 128, 32])\n",
        "```\n",
        "결국 어느 경우든 input에 embedding_dim이 추가되는 형태임을 알 수 있습니다. 따라서 어느 것을 사용할지는 RNN의 batch_first에 달려있습니다.  \n",
        "\n",
        "> 다음은 GRU입니다. Seq2Seq (정확하게는 조경현 교수님의 Seq2Seq의 초기버전)에서는 GRU를 사용합니다. GRU가 처음 제안된 논문이기도 합니다. 번역 모델에서는 언어에 따라 word order가 달라질 수 있으므로 Bidirectional한 모델을 사용합니다. GRU의 input은 앞선 `nn.Embedding`의 output인 **[Seq_len x Batch x Emb_dim]**이 됩니다. GRU의 `hidden`은  마지막(t=src len) hidden state 값으로, **[num_layers * num_directions x Batch x Hid_dim]** 차원입니다. `output`은 GRU의 hidden state를 모아놓은 것으로, 세번째 차원 **[hid dim * num directions]**에서 첫번째는 forward RNN, 두번째는 backward RNN을 의미합니다. 즉, $h_1 = [\\overrightarrow h_1;\\overrightarrow h_T ]$이고, $h_2 = [\\overrightarrow h_2;\\overrightarrow h_{T-1} ]$이 됩니다. 그리고, 이러한 stacked encoder hidden state를 $H = \\{h_1, h_2, ...h_T\\} $로 나타낼 수 있습니다. 차원은 **[src sent len, batch size, hid dim * num directions]**이 됩니다.\n",
        "\n",
        "> 그 후 concat하게 되는데, `hidden [-2, :, : ]`은 forwards RNN을, `hidden[-1, :, : ]`은 backward RNN을 의미합니다. Batch는 변하면 안되므로 Batch차원은 유지(dim=1)합니다.\n",
        "FC layer의 경우 GRU의 hidden state 두개를 concat하여 넣어줍니다. 이는 후에 decoder의 초기 hidden state가 될 것이므로, 디코더의 차원과 맞게끔 유지합니다. Embedding과는 다르게 matrix multiplication의 차원을 신경써줘야 합니다.\n",
        "```python\n",
        "embedded = self.dropout(self.embedding(src)) \n",
        "outputs, hidden = self.rnn(embedded)\n",
        "hidden = torch.tanh(self.fc(torch.cat((hidden[-2,:,:], hidden[-1,:,:]), dim = 1)))\n",
        "```\n",
        "\n",
        "> 최종적으로 차원을 정리하면 다음과 같습니다:  \n",
        "**GRU**\n",
        "- src: [Seq_len, Batch, Emb_dim]\n",
        "- outputs: [src sent len, batch size, hid dim * num directions]\n",
        "- hidden: [n layers * num directions, batch size, hid dim]\n",
        "\n",
        "> **torch.cat(, dim = 1)**\n",
        "- `hidden[-2, :, :], hidden[-1, :, :]`: [Batch, Hid_dim]\n",
        "- output: [batch_size, enc_hid_dim * 2]\n",
        "\n",
        "> **FC**\n",
        "- input: [batch_size, enc_hid_dim * 2]\n",
        "- output: [batch size, dec hid dim]"
      ]
    },
    {
      "cell_type": "markdown",
      "metadata": {
        "id": "DUDdNEYOYHma",
        "colab_type": "text"
      },
      "source": [
        "> ## 다시 `Seq2Seq`\n",
        "다시 Seq2Seq으로 돌아오겠습니다. Encoder가 끝나면, 이 결과에 대해 decoding을 할 차례입니다. 우선 문장의 시작을 알리는 <SOS> 토큰이 필요합니다. `trg`의 0번째 idx는 <SOS> 토큰이므로, 이를 이용하겠습니다. 그러면 `output`은 **[Batch]**의 vector가 됩니다.\n",
        "```python \n",
        "output = trg[0,:] # first input to the decoder is the <sos> token\n",
        "```\n",
        "이후에는 앞서 encoder의 output인 `hidden`와 'encoder_outputs', 그리고 <SOS> 토큰인 `output`, 을 디코더에 넣겠습니다. 나머지 부분은 디코더를 확인하고 다시보겠습니다.\n",
        "```python \n",
        "for t in range(1, max_len):\n",
        "    output, hidden = self.decoder(output, hidden, encoder_outputs)\n",
        "    '''\n",
        "    outputs[t] = output\n",
        "    teacher_force = random.random() < teacher_forcing_ratio\n",
        "    top1 = output.max(1)[1]\n",
        "    output = (trg[t] if teacher_force else top1)\n",
        "    '''\n",
        "```\n"
      ]
    },
    {
      "cell_type": "markdown",
      "metadata": {
        "id": "DWeObBOPVV95",
        "colab_type": "text"
      },
      "source": [
        "## `Attention`\n",
        "> Decoder를 보기에 앞서  `Attention`을 확인하겠습니다. 이는 디코더의 이전 hidden_state인 $s_{t-1}$과 encoder의 모든 forward와 backward를 쌓은 hidden state $H$를 필요로합니다. 이 레이어의 결과는 attnetion vector $a_t$로, 길이가 source sentence의 길이와 같고 값이 0부터 1 사이이며, 모두 합치면 1이 됩니다. \n",
        "\n",
        "```python\n",
        "class Attention(nn.Module):\n",
        "    def __init__(self, enc_hid_dim: int, dec_hid_dim: int, attn_dim: int):\n",
        "        super(Attention, self).__init__()\n",
        "        self.enc_hid_dim = enc_hid_dim\n",
        "        self.dec_hid_dim = dec_hid_dim\n",
        "\n",
        "        self.attn_in = (enc_hid_dim) * 2 + dec_hid_dim\n",
        "        self.attn = nn.Linear(self.attn_in, attn_dim)\n",
        "\n",
        "    def forward(self, decoder_hidden: Tensor, encoder_outputs: Tensor) -> Tensor:\n",
        "        src_len = encoder_outputs.shape[0]\n",
        "        repeated_decoder_hidden = decoder_hidden.unsqueeze(1).repeat(1, src_len, 1)\n",
        "        encoder_outputs = encoder_outputs.permute(1, 0, 2)\n",
        "        energy = torch.tanh(self.attn(torch.cat((repeated_decoder_hidden encoder_outputs), dim=2)))\n",
        "        attention = torch.sum(energy, dim=2)\n",
        "\n",
        "        return F.softmax(attention)\n",
        "```\n",
        "> 먼저 이전 디코더 hidden state와 encoder hidden state사이의 energy를 계산해야합니다. Energy를 구하는 식은 다음과 같습니다.\n",
        "$$\n",
        "E_t = \\tanh(\\textrm{attn}(s_{t-1}, H))\n",
        "$$  \n",
        "\n",
        "> 인코더의 히든 스테이트는 T (source len)개 tensor의 sequence이고, 디코더의 히든 스테이트는 **[batch size, dec hid dim]**의 single vector이므로, 길이를 맞춰주어야 합니다. 이를 위해 `unsqueeze(1)`을 하여 **[batch size, 1, dec hid dim]**로 바꾸고, T번 `repeat(1, T, 1)`합니다. 그러면 **[batch size, seq_len, dec hid dim]**이 될 것입니다. \n",
        "```python\n",
        "repeated_decoder_hidden = decoder_hidden.unsqueeze(1).repeat(1, src_len, 1)\n",
        "```\n",
        "\n",
        "> `encoder_outputs`는 **[src sent len, batch size, enc hid dim * 2]**의 차원을 갖고 있습니다. 이를 concat하고, FC에 feed하여 attn_dim으로 나타내기 위해 `torch.Tensor.permute`를 통해 텐서 차원끼리 교환합니다. 이 결과 **[batch size, src sent len, enc hid dim * 2]**차원이 됩니다.\n",
        "```python\n",
        "encoder_outputs = encoder_outputs.permute(1, 0, 2)\n",
        "```\n",
        "이후 이 둘을 concat합니다. **[batch size, seq_len, dec hid dim ; batch size, src sent len, enc hid dim * 2]** 이므로, **[batch size, src sent len, enc hid dim * 2 + dec hid dim]**이 될 것입니다.\n",
        "```python\n",
        "torch.cat((repeated_decoder_hidden, encoder_outputs), dim = 2)\n",
        "```\n",
        "이제 energy를 계산합니다. 에너지는 FC인 `self.attn`을 통과하여 얻습니다. 차원은 **[batch_size, seq_len, attn_dim]** 입니다. 그 후 tanh를 통과합니다.\n",
        "```python\n",
        "energy = torch.tanh(self.attn(torch.cat((repeated_decoder_hidden, encoder_outputs), dim=2)))\n",
        "```\n",
        "Addictive attention의 경우 $E_t = v^T\\tanh (\\textrm{attn}(Ws_{t-1} + Uh_j))$ 가 되고, 사이즈는 **[batch size, src len]**입니다. $\\tanh (\\textrm{attn}(Ws_{t-1} + Uh_j))$ 부분은 앞서 concat하여 구했습니다. 여기서는 parameter $v^T$를 학습시키는 대신 이후 attention dim으로 sum하겠습니다. 사이즈는 마찬가지로 **[batch size, src len]**가 됩니다.\n",
        "```python\n",
        "attention = torch.sum(energy, dim=2)\n",
        "```\n",
        "\n",
        "\n",
        "\n",
        "\n",
        "\n",
        "\n",
        "\n"
      ]
    },
    {
      "cell_type": "markdown",
      "metadata": {
        "id": "ecdtnYCRhFXy",
        "colab_type": "text"
      },
      "source": [
        "> ## `Decoder`\n",
        "Encoder의 결과인 hidden vector와 output vector, attention의 attention score를 받아 번역할 언어의 단어를 차례대로 반환합니다. 따라서, trg 언어의 embedding이 필요할 것입니다. output_dim은 trg언어의 look-up words의 개수, emb_dim은 embedding vector의 차원입니다.  \n",
        "```python\n",
        "self.embedding = nn.Embedding(output_dim, emb_dim)\n",
        "```\n",
        "이후엔 encoder와 마찬가지로 GRU를 이용해 번역합니다. 어텐션의 `attn_in`은 인코더의 context vector로부터 decoder의 attention score를 계산하는 layer의 input dimension입니다. \n",
        "```python\n",
        "self.rnn = nn.GRU((enc_hid_dim * 2) + emb_dim, dec_hid_dim)\n",
        "self.out = nn.Linear(self.attention.attn_in + emb_dim, output_dim)\n",
        "self.dropout = nn.Dropout(dropout)\n",
        "```\n",
        "디코더는 어텐션을 이용해 인코더 히든 스테이트인 $H$와 어텐션 벡터 $a_t$를 이용해 weighted source vector $w_t$를 생성합니다. \n",
        "$$\n",
        "w_t = a_tH\n",
        "$$  \n",
        "이 과정은 함수 `_weighted_encoder_rep`에 나와 있습니다. \n",
        "\n",
        "```python\n",
        "def _weighted_encoder_rep(self, decoder_hidden: Tensor, encoder_outputs: Tensor) -> Tensor:\n",
        "        a = self.attention(decoder_hidden, encoder_outputs)\n",
        "        a = a.unsqueeze(1)\n",
        "        encoder_outputs = encoder_outputs.permute(1, 0, 2)\n",
        "        weighted_encoder_rep = torch.bmm(a, encoder_outputs)\n",
        "        weighted_encoder_rep = weighted_encoder_rep.permute(1, 0, 2)\n",
        "\n",
        "        return weighted_encoder_rep\n",
        "```\n",
        "\n",
        "> 우선 attention의 결과로 얻어지는 attention vector `a`는 차원이 **[Batch x seq len]**이기 때문에, 이를 **[Batch x 1 x seq len]**로 바꾸어줍니다. \n",
        "```python\n",
        "a = self.attention(decoder_hidden, encoder_outputs)\n",
        "a = a.unsqueeze(1)\n",
        "```\n",
        "이후, Batch matrix multiplication을 하기 위해 `permute(1, 0, 2)`를 이용해 stacked hidden state인 `encoder_outputs`의 차원을 **[src sent len, batch size, hid dim * num directions]** 에서 **[batch size, src sent len, hid dim * num directions]**로 바꾸어줍니다.\n",
        "```python\n",
        "encoder_outputs = encoder_outputs.permute(1, 0, 2)\n",
        "```\n",
        "이제는 위에서 본 weighted source vector `w_t`를 구하면 됩니다.   \n",
        "**[Batch x 1 x seq len]**와 **[batch size, src sent len, hid dim * num directions]**의 배치곱이므로, 결과는 **[batch size, 1, hid dim * num directions]**이 됩니다. 이를 다시 **[1, batch size, enc hid dim * 2]**차원으로 바꿉니다.\n",
        "```python\n",
        "weighted_encoder_rep = torch.bmm(a, encoder_outputs)\n",
        "weighted_encoder_rep = weighted_encoder_rep.permute(1, 0, 2)\n",
        "```\n",
        "\n",
        "> 이제는 `forward`를 보겠습니다.  \n",
        "`input`은 글자의 idx tensor로, **[batch size]**차원입니다. 즉, 매 t번째 시점의 단어 (처음에는 <SOS>토큰이 batch size만큼)가 들어오는 것입니다. seq_len이 1이므로 이를 **[1, batch size]**로 `unsqueeze(0)`해줍니다. 그 후 각 단어의 idx는 임베딩되어 `embedded`가 되고, 이의 차원은 **[1, batch_size, emb_dim]이 됩니다.\n",
        "```python\n",
        "input = input.unsqueeze(0)\n",
        "embedded = self.dropout(self.embedding(input))\n",
        "```\n",
        "임베딩된 input word $y_t$(`embedded`)와 weighted source vector $w_t$(`weighted_encoder_rep`), 이전 시점의 디코더의 히든 스테이트 $s_{t-1}$(`decoder_hidden`)은 디코더 RNN으로 전달됩니다.\n",
        "$$\n",
        "s_t = \\textrm{DecoderGRU}(y_t, w_t, s_{t-1})\n",
        "$$  \n",
        "weighted source vector $w_t$(`weighted_encoder_rep`)는 **[1, batch size, enc hid dim * 2]**, $y_t$와 $w_t$는 concat되어 **[1, batch size, (enc hid dim * 2) + emb dim]**이 됩니다.\n",
        "```python\n",
        "weighted_encoder_rep = self._weighted_encoder_rep(decoder_hidden, encoder_outputs)\n",
        "rnn_input = torch.cat((embedded, weighted_encoder_rep), dim = 2)\n",
        "```\n",
        "Decoder의 hidden state $s_{t-1}$은 encoder의 `hidden`으로 **[batch size, dec hid dim]**입니다. 이를 Decoder의 GRU에 넣기 위해 `unsqueeze(0)`하여 **[1, batch size, dec hid dim]**를 얻습니다. 마찬가지로, 1은 seq_len입니다.\n",
        "```python\n",
        "output, decoder_hidden = self.rnn(rnn_input, decoder_hidden.unsqueeze(0))\n",
        "```\n",
        "`output`은 마찬가지로 hidden state의 집함, `decoder_hidden`은 마지막 hidden state입니다.\n",
        "> 그 후엔 linear layer $f$에 $y_t, w_t, s_{t-1}$를 전달하여 target sentence $\\hat{y_{t+1}}$을 예측합니다. 이는 이들 모두를 concat하여 수행할 수 있습니다.\n",
        "$$\n",
        "y_t = f(y_t, w_t, s_t)\n",
        "$$\n",
        "seq_len은 전부 1이니까 이를 `squeeze(0)`하고 concat한 후 FC에 넣습니다.  \n",
        "`embedded`: **[1, batch size]** -> **[batch size]**  \n",
        "`output`: **[1, batch size, dec hid dim * n directions]**-> **[batch size, dec hid dim * n directions]**,\n",
        "`weighted_encoder_rep`: **[1, batch size, (enc hid dim * 2) + emb dim]** -> **batch size, (enc hid dim * 2) + emb dim]**  \n",
        "이루어직concat은 당연히 batch size를 중심으로 이루어집니다.  \n",
        "`output`은 **[batch size, output dim]**가 됩니다. Decoder의 결과는 이 `output`과, `decoder_hidden`을 `squeeze(0)`한 것입니다. `decoder_hidden`은 **[ batch size, dec hid dim]**이 됩니다.\n",
        "```python\n",
        "embedded = embedded.squeeze(0)\n",
        "output = output.squeeze(0)\n",
        "weighted_encoder_rep = weighted_encoder_rep.squeeze(0)\n",
        "output = self.out(torch.cat((output, weighted_encoder_rep, embedded), dim = 1))\n",
        "return output, decoder_hidden.squeeze(0)\n",
        "```"
      ]
    },
    {
      "cell_type": "markdown",
      "metadata": {
        "id": "Qj6drUjRghWM",
        "colab_type": "text"
      },
      "source": [
        "> # 다시 `Seq2seq`\n",
        "아까봤던 `Seq2seq`의 `forward`의 반복문을 보겠습니다. 앞서 저희는 `outputs`라는 텐서에 단어를 넣기로 하였습니다. Decoder의 결과물인 `output`은 softmax를 통하여 예측하는 다음단어가 됩니다.\n",
        "```python \n",
        "for t in range(1, max_len):\n",
        "    '''\n",
        "    output, hidden = self.decoder(output, hidden, encoder_outputs)\n",
        "    '''\n",
        "    outputs[t] = output\n",
        "    '''\n",
        "    teacher_force = random.random() < teacher_forcing_ratio\n",
        "    top1 = output.max(1)[1]\n",
        "    output = (trg[t] if teacher_force else top1)\n",
        "    '''\n",
        "```\n",
        "\n",
        "> Decoder가 예측한 다음 단어는 top1이 되고 (softmax를 한 결과와 max를 한 결과가 같음), Teacher forcing을 사용하겠다면 `trg[t]`가 다음 `output`이 되어 decoder의 입력으로 들어가고, 그게 아니라면 `top1`을 넣어 teacher forcing을 사용하지 않을 것입니다.\n",
        "```python \n",
        "for t in range(1, max_len):\n",
        "    '''\n",
        "    output, hidden = self.decoder(output, hidden, encoder_outputs)\n",
        "    outputs[t] = output\n",
        "    '''\n",
        "    teacher_force = random.random() < teacher_forcing_ratio\n",
        "    top1 = output.max(1)[1]\n",
        "    output = (trg[t] if teacher_force else top1)\n",
        "```"
      ]
    },
    {
      "cell_type": "markdown",
      "metadata": {
        "id": "CEBVNVyBibNa",
        "colab_type": "text"
      },
      "source": [
        "**Note**\n",
        "언어 번역 모델의 성능을 평가할 때, `nn.CrossEntropyLoss`로 하여금 padding index를 알려주어야 합니다."
      ]
    },
    {
      "cell_type": "code",
      "metadata": {
        "id": "RcCfkWkeHGQ1",
        "colab_type": "code",
        "colab": {}
      },
      "source": [
        "PAD_IDX = TRG.vocab.stoi['<pad>']\n",
        "\n",
        "criterion = nn.CrossEntropyLoss(ignore_index=PAD_IDX)"
      ],
      "execution_count": 0,
      "outputs": []
    },
    {
      "cell_type": "markdown",
      "metadata": {
        "id": "fHSqBxoKk8aM",
        "colab_type": "text"
      },
      "source": [
        "마지막으로 train과 eval을 해봅시다."
      ]
    },
    {
      "cell_type": "code",
      "metadata": {
        "id": "3Bp3lwt1Mu_W",
        "colab_type": "code",
        "outputId": "b10923cd-3aa9-423b-fea8-86d38ec2c41c",
        "colab": {
          "base_uri": "https://localhost:8080/",
          "height": 570
        }
      },
      "source": [
        "import math\n",
        "import time\n",
        "\n",
        "def train(model: nn.Module, iterator: BucketIterator,optimizer: optim.Optimizer, criterion: nn.Module, clip: float):\n",
        "    model.train()\n",
        "    epoch_loss = 0\n",
        "\n",
        "    for _, batch in enumerate(iterator):\n",
        "        src = batch.src\n",
        "        trg = batch.trg\n",
        "\n",
        "        optimizer.zero_grad()\n",
        "        output = model(src, trg)\n",
        "        output = output[1:].view(-1, output.shape[-1])\n",
        "        trg = trg[1:].view(-1)\n",
        "        loss = criterion(output, trg)\n",
        "        loss.backward()\n",
        "        # Gradient clipping\n",
        "        torch.nn.utils.clip_grad_norm_(model.parameters(), clip)\n",
        "        optimizer.step()\n",
        "        epoch_loss += loss.item()\n",
        "\n",
        "    return epoch_loss / len(iterator)\n",
        "\n",
        "def evaluate(model: nn.Module, iterator: BucketIterator, criterion: nn.Module):\n",
        "    model.eval()\n",
        "    epoch_loss = 0\n",
        "\n",
        "    with torch.no_grad():\n",
        "        for _, batch in enumerate(iterator):\n",
        "            src = batch.src\n",
        "            trg = batch.trg\n",
        "\n",
        "            output = model(src, trg, 0) #turn off teacher forcing\n",
        "            output = output[1:].view(-1, output.shape[-1])\n",
        "            trg = trg[1:].view(-1)\n",
        "            loss = criterion(output, trg)\n",
        "            epoch_loss += loss.item()\n",
        "\n",
        "    return epoch_loss / len(iterator)\n",
        "\n",
        "\n",
        "def epoch_time(start_time: int, end_time: int):\n",
        "    elapsed_time = end_time - start_time\n",
        "    elapsed_mins = int(elapsed_time / 60)\n",
        "    elapsed_secs = int(elapsed_time - (elapsed_mins * 60))\n",
        "    return elapsed_mins, elapsed_secs\n",
        "\n",
        "N_EPOCHS = 10\n",
        "CLIP = 1\n",
        "best_valid_loss = float('inf')\n",
        "\n",
        "for epoch in range(N_EPOCHS):\n",
        "    start_time = time.time()\n",
        "    train_loss = train(model, train_iterator, optimizer, criterion, CLIP)\n",
        "    valid_loss = evaluate(model, valid_iterator, criterion)\n",
        "    end_time = time.time()\n",
        "    epoch_mins, epoch_secs = epoch_time(start_time, end_time)\n",
        "    print(f'Epoch: {epoch+1:02} | Time: {epoch_mins}m {epoch_secs}s')\n",
        "    print(f'\\tTrain Loss: {train_loss:.3f} | Train PPL: {math.exp(train_loss):7.3f}')\n",
        "    print(f'\\t Val. Loss: {valid_loss:.3f} |  Val. PPL: {math.exp(valid_loss):7.3f}')\n",
        "\n",
        "test_loss = evaluate(model, test_iterator, criterion)\n",
        "print(f'| Test Loss: {test_loss:.3f} | Test PPL: {math.exp(test_loss):7.3f} |')"
      ],
      "execution_count": 0,
      "outputs": [
        {
          "output_type": "stream",
          "text": [
            "/usr/local/lib/python3.6/dist-packages/ipykernel_launcher.py:53: UserWarning: Implicit dimension choice for softmax has been deprecated. Change the call to include dim=X as an argument.\n"
          ],
          "name": "stderr"
        },
        {
          "output_type": "stream",
          "text": [
            "Epoch: 01 | Time: 0m 30s\n",
            "\tTrain Loss: 5.681 | Train PPL: 293.382\n",
            "\t Val. Loss: 5.253 |  Val. PPL: 191.188\n",
            "Epoch: 02 | Time: 0m 30s\n",
            "\tTrain Loss: 5.004 | Train PPL: 148.990\n",
            "\t Val. Loss: 5.152 |  Val. PPL: 172.730\n",
            "Epoch: 03 | Time: 0m 30s\n",
            "\tTrain Loss: 4.759 | Train PPL: 116.608\n",
            "\t Val. Loss: 5.086 |  Val. PPL: 161.801\n",
            "Epoch: 04 | Time: 0m 30s\n",
            "\tTrain Loss: 4.631 | Train PPL: 102.650\n",
            "\t Val. Loss: 4.923 |  Val. PPL: 137.475\n",
            "Epoch: 05 | Time: 0m 30s\n",
            "\tTrain Loss: 4.493 | Train PPL:  89.401\n",
            "\t Val. Loss: 4.809 |  Val. PPL: 122.625\n",
            "Epoch: 06 | Time: 0m 30s\n",
            "\tTrain Loss: 4.361 | Train PPL:  78.331\n",
            "\t Val. Loss: 4.843 |  Val. PPL: 126.808\n",
            "Epoch: 07 | Time: 0m 30s\n",
            "\tTrain Loss: 4.258 | Train PPL:  70.691\n",
            "\t Val. Loss: 4.763 |  Val. PPL: 117.061\n",
            "Epoch: 08 | Time: 0m 30s\n",
            "\tTrain Loss: 4.160 | Train PPL:  64.103\n",
            "\t Val. Loss: 4.704 |  Val. PPL: 110.364\n",
            "Epoch: 09 | Time: 0m 30s\n",
            "\tTrain Loss: 4.072 | Train PPL:  58.693\n",
            "\t Val. Loss: 4.586 |  Val. PPL:  98.095\n",
            "Epoch: 10 | Time: 0m 30s\n",
            "\tTrain Loss: 3.979 | Train PPL:  53.455\n",
            "\t Val. Loss: 4.475 |  Val. PPL:  87.763\n",
            "| Test Loss: 4.476 | Test PPL:  87.843 |\n"
          ],
          "name": "stdout"
        }
      ]
    }
  ]
}